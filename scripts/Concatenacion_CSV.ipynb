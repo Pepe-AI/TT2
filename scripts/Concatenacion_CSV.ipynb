{
  "cells": [
    {
      "cell_type": "code",
      "execution_count": 1,
      "metadata": {
        "id": "SfBOXRzfS0kE"
      },
      "outputs": [],
      "source": [
        "import warnings\n",
        "import numpy as np\n",
        "import pandas as pd\n",
        "import seaborn as sns\n",
        "import matplotlib.pyplot as plt\n",
        "\n",
        "from nltk.corpus import stopwords\n",
        "import string\n",
        "from wordcloud import WordCloud\n",
        "import pandas as pd\n",
        "\n",
        "from sklearn.preprocessing import LabelEncoder\n",
        "from sklearn.neighbors import KNeighborsClassifier\n",
        "from sklearn import metrics\n",
        "\n",
        "from sklearn.metrics.pairwise import cosine_similarity\n",
        "from sklearn.feature_extraction.text import CountVectorizer\n",
        "\n",
        "from nltk.tokenize import WhitespaceTokenizer\n",
        "\n",
        "import plotly.graph_objects as go\n",
        "import plotly.express as px\n",
        "\n",
        "warnings.filterwarnings('ignore')"
      ]
    },
    {
      "cell_type": "code",
      "execution_count": 2,
      "metadata": {},
      "outputs": [
        {
          "name": "stdout",
          "output_type": "stream",
          "text": [
            "<class 'pandas.core.frame.DataFrame'>\n",
            "RangeIndex: 100 entries, 0 to 99\n",
            "Data columns (total 3 columns):\n",
            " #   Column         Non-Null Count  Dtype \n",
            "---  ------         --------------  ----- \n",
            " 0   Category       100 non-null    object\n",
            " 1   Clean_Resume   100 non-null    object\n",
            " 2   Common Skills  100 non-null    object\n",
            "dtypes: object(3)\n",
            "memory usage: 2.5+ KB\n",
            "None\n",
            "<class 'pandas.core.frame.DataFrame'>\n",
            "RangeIndex: 952 entries, 0 to 951\n",
            "Data columns (total 3 columns):\n",
            " #   Column         Non-Null Count  Dtype \n",
            "---  ------         --------------  ----- \n",
            " 0   Category       952 non-null    object\n",
            " 1   Clean_Resume   952 non-null    object\n",
            " 2   Common Skills  952 non-null    object\n",
            "dtypes: object(3)\n",
            "memory usage: 22.4+ KB\n",
            "None\n"
          ]
        }
      ],
      "source": [
        "data_1 = pd.read_csv('Dataset_part_PP2.csv', encoding=\"utf-8\")\n",
        "data_2 = pd.read_csv('DatasetSinRellenar.csv', encoding=\"utf-8\")\n",
        "\n",
        "\n",
        "\n",
        "\n",
        "print(data_1.info())\n",
        "print(data_2.info())\n",
        "\n"
      ]
    },
    {
      "cell_type": "code",
      "execution_count": 3,
      "metadata": {},
      "outputs": [
        {
          "name": "stdout",
          "output_type": "stream",
          "text": [
            "False\n",
            "Category         0\n",
            "Clean_Resume     0\n",
            "Common Skills    0\n",
            "dtype: int64\n"
          ]
        }
      ],
      "source": [
        "# Verifica si hay valores nulos en el dataset\n",
        "nulos_en_dataset = data_1.isnull().any().any()\n",
        "\n",
        "# Mostrará True si hay al menos un valor nulo en el dataset, de lo contrario mostrará False\n",
        "print(nulos_en_dataset)\n",
        "\n",
        "\n",
        "# Si quieres obtener más detalles, como la cantidad de valores nulos por columna, puedes hacer lo siguiente:\n",
        "nulos_por_columna = data_1.isnull().sum()\n",
        "print(nulos_por_columna)"
      ]
    },
    {
      "cell_type": "code",
      "execution_count": 4,
      "metadata": {},
      "outputs": [
        {
          "name": "stdout",
          "output_type": "stream",
          "text": [
            "(952, 3)\n",
            "Index(['Category', 'Clean_Resume', 'Common Skills'], dtype='object')\n",
            "Category\n",
            "Java Developer               140\n",
            "Python Developer             140\n",
            "Testing                      140\n",
            "DevOps Engineer              110\n",
            "Web Designing                 90\n",
            "Blockchain                    80\n",
            "Data Science                  80\n",
            "Database                      66\n",
            "DotNet Developer              56\n",
            "Network Security Engineer     50\n",
            "Name: count, dtype: int64\n"
          ]
        }
      ],
      "source": [
        "print(data_2.shape)\n",
        "print(data_2.columns)\n",
        "print(data_2.Category.value_counts())\n"
      ]
    },
    {
      "cell_type": "code",
      "execution_count": 5,
      "metadata": {},
      "outputs": [
        {
          "name": "stdout",
          "output_type": "stream",
          "text": [
            "(100, 3)\n",
            "Index(['Category', 'Clean_Resume', 'Common Skills'], dtype='object')\n",
            "Category\n",
            "Network Security Engineer    50\n",
            "DotNet Developer             50\n",
            "Name: count, dtype: int64\n"
          ]
        }
      ],
      "source": [
        "\n",
        "print(data_1.shape)\n",
        "print(data_1.columns)\n",
        "print(data_1.Category.value_counts())\n"
      ]
    },
    {
      "cell_type": "code",
      "execution_count": 6,
      "metadata": {},
      "outputs": [],
      "source": [
        "def join_dataset():\n",
        "\n",
        "    rows_to_add = data_1.shape[0] - data_2.shape[0]\n",
        "\n",
        "    additional_rows = pd.DataFrame(index=range(rows_to_add), columns=data_2.columns)\n",
        "\n",
        "    df2_aligned = pd.concat([additional_rows, data_2], ignore_index=True)\n",
        "\n",
        "    result = pd.concat([data_1, df2_aligned], axis=0)\n",
        "\n",
        "    result.drop(result.columns[result.columns.str.contains('unnamed',case = False)],axis = 1, inplace = True)\n",
        "    \n",
        "    return result\n",
        "\n"
      ]
    },
    {
      "cell_type": "code",
      "execution_count": 7,
      "metadata": {},
      "outputs": [
        {
          "name": "stdout",
          "output_type": "stream",
          "text": [
            "False\n",
            "Category         0\n",
            "Clean_Resume     0\n",
            "Common Skills    0\n",
            "dtype: int64\n"
          ]
        }
      ],
      "source": [
        "\n",
        "result = join_dataset()\n",
        "\n",
        "\n",
        "# Verifica si hay valores nulos en el dataset\n",
        "nulos_en_dataset = result.isnull().any().any()\n",
        "\n",
        "# Mostrará True si hay al menos un valor nulo en el dataset, de lo contrario mostrará False\n",
        "print(nulos_en_dataset)\n",
        "\n",
        "\n",
        "# Si quieres obtener más detalles, como la cantidad de valores nulos por columna, puedes hacer lo siguiente:\n",
        "nulos_por_columna = result.isnull().sum()\n",
        "print(nulos_por_columna)"
      ]
    },
    {
      "cell_type": "code",
      "execution_count": 8,
      "metadata": {},
      "outputs": [
        {
          "name": "stdout",
          "output_type": "stream",
          "text": [
            "(1052, 3)\n",
            "Index(['Category', 'Clean_Resume', 'Common Skills'], dtype='object')\n",
            "Category\n",
            "Java Developer               140\n",
            "Python Developer             140\n",
            "Testing                      140\n",
            "DevOps Engineer              110\n",
            "DotNet Developer             106\n",
            "Network Security Engineer    100\n",
            "Web Designing                 90\n",
            "Blockchain                    80\n",
            "Data Science                  80\n",
            "Database                      66\n",
            "Name: count, dtype: int64\n"
          ]
        }
      ],
      "source": [
        "print(result.shape)\n",
        "print(result.columns)\n",
        "print(result.Category.value_counts())\n"
      ]
    },
    {
      "cell_type": "code",
      "execution_count": 9,
      "metadata": {},
      "outputs": [],
      "source": [
        "result['Category'] = result['Category'].str.strip()"
      ]
    },
    {
      "cell_type": "code",
      "execution_count": 10,
      "metadata": {},
      "outputs": [
        {
          "data": {
            "text/plain": [
              "array(['Network Security Engineer', 'DotNet Developer', 'Blockchain',\n",
              "       'Data Science', 'Database', 'DevOps Engineer', 'Java Developer',\n",
              "       'Python Developer', 'Testing', 'Web Designing'], dtype=object)"
            ]
          },
          "execution_count": 10,
          "metadata": {},
          "output_type": "execute_result"
        }
      ],
      "source": [
        "result[\"Category\"].unique()"
      ]
    },
    {
      "cell_type": "code",
      "execution_count": 11,
      "metadata": {},
      "outputs": [],
      "source": [
        "#reducir las etiquetas a 1200\n",
        "def sample_n(df, n=140):\n",
        "    return df.sample(min(len(df), n))\n",
        "\n",
        "df = result.groupby('Category').apply(sample_n).reset_index(drop=True)"
      ]
    },
    {
      "cell_type": "code",
      "execution_count": 12,
      "metadata": {},
      "outputs": [
        {
          "name": "stdout",
          "output_type": "stream",
          "text": [
            "(1052, 3)\n",
            "Index(['Category', 'Clean_Resume', 'Common Skills'], dtype='object')\n",
            "Category\n",
            "Java Developer               140\n",
            "Python Developer             140\n",
            "Testing                      140\n",
            "DevOps Engineer              110\n",
            "DotNet Developer             106\n",
            "Network Security Engineer    100\n",
            "Web Designing                 90\n",
            "Blockchain                    80\n",
            "Data Science                  80\n",
            "Database                      66\n",
            "Name: count, dtype: int64\n"
          ]
        }
      ],
      "source": [
        "print(df.shape)\n",
        "print(df.columns)\n",
        "print(df.Category.value_counts())"
      ]
    },
    {
      "cell_type": "code",
      "execution_count": 13,
      "metadata": {},
      "outputs": [
        {
          "data": {
            "text/plain": [
              "<Axes: xlabel='count', ylabel='Category'>"
            ]
          },
          "execution_count": 13,
          "metadata": {},
          "output_type": "execute_result"
        },
        {
          "data": {
            "image/png": "[encoded data removed]",
            "text/plain": [
              "<Figure size 500x500 with 1 Axes>"
            ]
          },
          "metadata": {},
          "output_type": "display_data"
        }
      ],
      "source": [
        "plt.figure(figsize=(5,5))\n",
        "plt.xticks(rotation=90)\n",
        "sns.countplot(y=\"Category\", data=df, palette='Reds')"
      ]
    },
    {
      "cell_type": "code",
      "execution_count": 14,
      "metadata": {},
      "outputs": [],
      "source": [
        "df.to_csv('DatasetRelleno.csv', index=False)\n"
      ]
    },
    {
      "cell_type": "code",
      "execution_count": 4,
      "metadata": {},
      "outputs": [],
      "source": [
        "import pandas as pd\n",
        "import random\n",
        "\n",
        "# Expansión de los detalles para cada categoría con frases adicionales\n",
        "detalles = {\n",
        "    \"Network Security Engineer\": {\n",
        "        \"phrases\": [\n",
        "            \"with a deep understanding of {specialty}, holding certifications such as {certification}.\",\n",
        "            \"recognized for expertise in {specialty} and achieving {certification}, with a strong focus on protecting networks.\",\n",
        "            \"who has led projects on {specialty}, certified in {certification}, ensuring robust security measures.\"\n",
        "        ],\n",
        "        \"specialties\": ['cloud security', 'endpoint protection', 'network defense', 'data encryption', 'identity and access management', 'secure network architectures'],\n",
        "        \"certifications\": ['CompTIA Security+', 'Certified Ethical Hacker (CEH)', 'Cisco CCNA Security', 'Certified Information Systems Security Professional (CISSP)', 'GIAC Security Essentials (GSEC)'],\n",
        "        \"skills\": [\"Firewall Management\", \"Intrusion Detection\", \"Security Protocols\", \"Risk Management\", \"Vulnerability Assessment\", \"Network Policies\"]\n",
        "    },\n",
        "    \"DotNet Developer\": {\n",
        "        \"phrases\": [\n",
        "            \"skilled in developing scalable solutions using {specialty}, with {certification}.\",\n",
        "            \"experienced in {specialty}, and holding a {certification}, with a strong passion for coding and software development.\",\n",
        "            \"who excels in {specialty}, certified as a {certification}, and is known for writing clean, maintainable code.\"\n",
        "        ],\n",
        "        \"specialties\": ['web applications', 'RESTful APIs', 'microservices', 'cloud-native development', 'ASP.NET MVC', 'entity framework'],\n",
        "        \"certifications\": ['Microsoft Certified: Azure Developer Associate', 'Microsoft Certified Solutions Developer (MCSD)', 'ScrumMaster Certified', 'Microsoft Certified: .NET Core Developer'],\n",
        "        \"skills\": [\"C#\", \".NET Core\", \"ASP.NET\", \"Entity Framework\", \"Azure\", \"DevOps\"]\n",
        "    },\n",
        "\n",
        "    \"Web Designing\": {\n",
        "        \"phrases\": [\n",
        "            \"with a creative flair for {specialty}, validated by {certification}.\",\n",
        "            \"who specializes in {specialty}, complemented by a certification in {certification}, with a strong emphasis on user experience.\",\n",
        "            \"focused on {specialty}, with {certification}, known for crafting engaging and intuitive web experiences.\"\n",
        "        ],\n",
        "        \"specialties\": ['responsive design', 'UX/UI design', 'graphic design', 'web animation', 'SEO optimization', 'content management systems'],\n",
        "        \"certifications\": ['Adobe Certified Expert (ACE)', 'Certified Web Designer', 'Google UX Design Professional Certificate', 'Web Design for Everybody (Coursera)'],\n",
        "        \"skills\": [\"HTML5\", \"CSS3\", \"JavaScript\", \"Adobe Creative Suite\", \"Sketch\", \"Figma\"]\n",
        "    },\n",
        "\n",
        "    \"Database\": {\n",
        "        \"phrases\": [\n",
        "            \"expert in managing and optimizing {specialty}, certified in {certification}.\",\n",
        "            \"with profound knowledge in {specialty}, holding a {certification}, focused on database efficiency and security.\",\n",
        "            \"specializing in {specialty} with a strong background in {certification}, adept at database design and performance tuning.\"\n",
        "        ],\n",
        "        \"specialties\": ['database administration', 'data warehousing', 'data modeling', 'SQL database development', 'NoSQL databases', 'database security'],\n",
        "        \"certifications\": ['Oracle Database Certified Professional', 'Microsoft Certified: SQL Server Database Administrator', 'IBM Certified Database Administrator', 'MongoDB Certified DBA'],\n",
        "        \"skills\": [\"SQL\", \"NoSQL\", \"Database Design\", \"Data Analysis\", \"Performance Tuning\", \"Security Best Practices\"]\n",
        "    },\n",
        "\n",
        "    \"Blockchain\": {\n",
        "        \"phrases\": [\n",
        "            \"innovator in {specialty}, with certifications including {certification}, focusing on the development of secure and decentralized solutions.\",\n",
        "            \"with extensive experience in {specialty} and a {certification}, passionate about cryptocurrency and smart contract development.\",\n",
        "            \"who excels in {specialty}, certified as {certification}, with a strong emphasis on blockchain technology's potential for innovation.\"\n",
        "        ],\n",
        "        \"specialties\": ['smart contract development', 'cryptocurrency technology', 'blockchain network architecture', 'decentralized applications (DApps)', 'blockchain security', 'Ethereum platform'],\n",
        "        \"certifications\": ['Certified Blockchain Developer', 'Blockchain Council Certified Blockchain Expert', 'Ethereum Blockchain Developer Certification'],\n",
        "        \"skills\": [\"Solidity\", \"Smart Contracts\", \"Blockchain Technology\", \"Cryptography\", \"Ethereum\", \"DApp Development\"]\n",
        "    },\n",
        "\n",
        "     \"Data Science\": {\n",
        "        \"phrases\": [\n",
        "            \"data scientist skilled in {specialty} with a strong foundation in {certification}, dedicated to extracting actionable insights from large datasets.\",\n",
        "            \"with a deep interest in {specialty} and holding a {certification}, adept at using data to solve complex problems and drive decision making.\",\n",
        "            \"who specializes in {specialty}, certified with {certification}, and is passionate about leveraging analytics for strategic advantage.\"\n",
        "        ],\n",
        "        \"specialties\": ['predictive modeling', 'machine learning', 'statistical analysis', 'data visualization', 'big data technologies', 'natural language processing'],\n",
        "        \"certifications\": ['Certified Analytics Professional', 'Data Science Council of America Certification', 'Google Data Analytics Professional Certificate', 'IBM Data Science Professional Certificate'],\n",
        "        \"skills\": [\"Python\", \"R\", \"SQL\", \"Machine Learning\", \"Data Visualization\", \"Statistical Analysis\"]\n",
        "    },\n",
        "}\n",
        "\n",
        "categorias = list(detalles.keys())\n",
        "\n",
        "data = {\"Category\": [], \"Resume\": [], \"Common Skills\": []}\n",
        "\n",
        "for categoria in categorias:\n",
        "    for _ in range(50):  # Por cada categoría genera 100 entradas\n",
        "        specialty = random.choice(detalles[categoria][\"specialties\"])\n",
        "        certification = random.choice(detalles[categoria][\"certifications\"])\n",
        "        skills = \", \".join(random.sample(detalles[categoria][\"skills\"], 3))\n",
        "        phrase = random.choice(detalles[categoria][\"phrases\"]).format(specialty=specialty, certification=certification)\n",
        "        \n",
        "        resume_text = f\"{categoria} {phrase} Known for strong problem-solving skills and ability to deliver under pressure. Proficient in {skills}.\"\n",
        "        \n",
        "        data[\"Category\"].append(categoria)\n",
        "        data[\"Resume\"].append(resume_text)\n",
        "        data[\"Common Skills\"].append(skills)\n",
        "\n",
        "df = pd.DataFrame(data)\n",
        "csv_file_path = \"highly_varied_job_positions_dataset.csv\"\n",
        "df.to_csv(csv_file_path, index=False)\n"
      ]
    }
  ],
  "metadata": {
    "colab": {
      "provenance": []
    },
    "kernelspec": {
      "display_name": "Python 3",
      "name": "python3"
    },
    "language_info": {
      "codemirror_mode": {
        "name": "ipython",
        "version": 3
      },
      "file_extension": ".py",
      "mimetype": "text/x-python",
      "name": "python",
      "nbconvert_exporter": "python",
      "pygments_lexer": "ipython3",
      "version": "3.12.1"
    }
  },
  "nbformat": 4,
  "nbformat_minor": 0
}
