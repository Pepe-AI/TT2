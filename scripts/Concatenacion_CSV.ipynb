{
  "cells": [
    {
      "cell_type": "code",
      "execution_count": 1,
      "metadata": {
        "id": "SfBOXRzfS0kE"
      },
      "outputs": [],
      "source": [
        "import warnings\n",
        "import numpy as np\n",
        "import pandas as pd\n",
        "import seaborn as sns\n",
        "import matplotlib.pyplot as plt\n",
        "\n",
        "from nltk.corpus import stopwords\n",
        "import string\n",
        "from wordcloud import WordCloud\n",
        "import pandas as pd\n",
        "\n",
        "from sklearn.preprocessing import LabelEncoder\n",
        "from sklearn.neighbors import KNeighborsClassifier\n",
        "from sklearn import metrics\n",
        "\n",
        "from sklearn.metrics.pairwise import cosine_similarity\n",
        "from sklearn.feature_extraction.text import CountVectorizer\n",
        "\n",
        "from nltk.tokenize import WhitespaceTokenizer\n",
        "\n",
        "import plotly.graph_objects as go\n",
        "import plotly.express as px\n",
        "\n",
        "warnings.filterwarnings('ignore')"
      ]
    },
    {
      "cell_type": "code",
      "execution_count": 2,
      "metadata": {},
      "outputs": [
        {
          "name": "stdout",
          "output_type": "stream",
          "text": [
            "<class 'pandas.core.frame.DataFrame'>\n",
            "RangeIndex: 300 entries, 0 to 299\n",
            "Data columns (total 3 columns):\n",
            " #   Column         Non-Null Count  Dtype \n",
            "---  ------         --------------  ----- \n",
            " 0   Category       300 non-null    object\n",
            " 1   Clean_Resume   300 non-null    object\n",
            " 2   Common Skills  300 non-null    object\n",
            "dtypes: object(3)\n",
            "memory usage: 7.2+ KB\n",
            "None\n",
            "<class 'pandas.core.frame.DataFrame'>\n",
            "RangeIndex: 952 entries, 0 to 951\n",
            "Data columns (total 3 columns):\n",
            " #   Column         Non-Null Count  Dtype \n",
            "---  ------         --------------  ----- \n",
            " 0   Category       952 non-null    object\n",
            " 1   Clean_Resume   952 non-null    object\n",
            " 2   Common Skills  952 non-null    object\n",
            "dtypes: object(3)\n",
            "memory usage: 22.4+ KB\n",
            "None\n"
          ]
        }
      ],
      "source": [
        "data_1 = pd.read_csv('Dataset_part_PP2.csv', encoding=\"utf-8\")\n",
        "data_2 = pd.read_csv('DatasetSinRellenar.csv', encoding=\"utf-8\")\n",
        "\n",
        "\n",
        "\n",
        "\n",
        "print(data_1.info())\n",
        "print(data_2.info())\n",
        "\n"
      ]
    },
    {
      "cell_type": "code",
      "execution_count": 3,
      "metadata": {},
      "outputs": [
        {
          "name": "stdout",
          "output_type": "stream",
          "text": [
            "False\n",
            "Category         0\n",
            "Clean_Resume     0\n",
            "Common Skills    0\n",
            "dtype: int64\n"
          ]
        }
      ],
      "source": [
        "# Verifica si hay valores nulos en el dataset\n",
        "nulos_en_dataset = data_1.isnull().any().any()\n",
        "\n",
        "# Mostrará True si hay al menos un valor nulo en el dataset, de lo contrario mostrará False\n",
        "print(nulos_en_dataset)\n",
        "\n",
        "\n",
        "# Si quieres obtener más detalles, como la cantidad de valores nulos por columna, puedes hacer lo siguiente:\n",
        "nulos_por_columna = data_1.isnull().sum()\n",
        "print(nulos_por_columna)"
      ]
    },
    {
      "cell_type": "code",
      "execution_count": 4,
      "metadata": {},
      "outputs": [
        {
          "name": "stdout",
          "output_type": "stream",
          "text": [
            "(952, 3)\n",
            "Index(['Category', 'Clean_Resume', 'Common Skills'], dtype='object')\n",
            "Category\n",
            "Java Developer               140\n",
            "Python Developer             140\n",
            "Testing                      140\n",
            "DevOps Engineer              110\n",
            "Web Designing                 90\n",
            "Blockchain                    80\n",
            "Data Science                  80\n",
            "Database                      66\n",
            "DotNet Developer              56\n",
            "Network Security Engineer     50\n",
            "Name: count, dtype: int64\n"
          ]
        }
      ],
      "source": [
        "print(data_2.shape)\n",
        "print(data_2.columns)\n",
        "print(data_2.Category.value_counts())\n"
      ]
    },
    {
      "cell_type": "code",
      "execution_count": 5,
      "metadata": {},
      "outputs": [
        {
          "name": "stdout",
          "output_type": "stream",
          "text": [
            "(300, 3)\n",
            "Index(['Category', 'Clean_Resume', 'Common Skills'], dtype='object')\n",
            "Category\n",
            "Network Security Engineer    50\n",
            "DotNet Developer             50\n",
            "Web Designing                50\n",
            "Database                     50\n",
            "Blockchain                   50\n",
            "Data Science                 50\n",
            "Name: count, dtype: int64\n"
          ]
        }
      ],
      "source": [
        "\n",
        "print(data_1.shape)\n",
        "print(data_1.columns)\n",
        "print(data_1.Category.value_counts())\n"
      ]
    },
    {
      "cell_type": "code",
      "execution_count": 6,
      "metadata": {},
      "outputs": [],
      "source": [
        "def join_dataset():\n",
        "\n",
        "    rows_to_add = data_1.shape[0] - data_2.shape[0]\n",
        "\n",
        "    additional_rows = pd.DataFrame(index=range(rows_to_add), columns=data_2.columns)\n",
        "\n",
        "    df2_aligned = pd.concat([additional_rows, data_2], ignore_index=True)\n",
        "\n",
        "    result = pd.concat([data_1, df2_aligned], axis=0)\n",
        "\n",
        "    result.drop(result.columns[result.columns.str.contains('unnamed',case = False)],axis = 1, inplace = True)\n",
        "    \n",
        "    return result\n",
        "\n"
      ]
    },
    {
      "cell_type": "code",
      "execution_count": 7,
      "metadata": {},
      "outputs": [
        {
          "name": "stdout",
          "output_type": "stream",
          "text": [
            "False\n",
            "Category         0\n",
            "Clean_Resume     0\n",
            "Common Skills    0\n",
            "dtype: int64\n"
          ]
        }
      ],
      "source": [
        "\n",
        "result = join_dataset()\n",
        "\n",
        "\n",
        "# Verifica si hay valores nulos en el dataset\n",
        "nulos_en_dataset = result.isnull().any().any()\n",
        "\n",
        "# Mostrará True si hay al menos un valor nulo en el dataset, de lo contrario mostrará False\n",
        "print(nulos_en_dataset)\n",
        "\n",
        "\n",
        "# Si quieres obtener más detalles, como la cantidad de valores nulos por columna, puedes hacer lo siguiente:\n",
        "nulos_por_columna = result.isnull().sum()\n",
        "print(nulos_por_columna)"
      ]
    },
    {
      "cell_type": "code",
      "execution_count": 8,
      "metadata": {},
      "outputs": [
        {
          "name": "stdout",
          "output_type": "stream",
          "text": [
            "(1252, 3)\n",
            "Index(['Category', 'Clean_Resume', 'Common Skills'], dtype='object')\n",
            "Category\n",
            "Web Designing                140\n",
            "Java Developer               140\n",
            "Python Developer             140\n",
            "Testing                      140\n",
            "Blockchain                   130\n",
            "Data Science                 130\n",
            "Database                     116\n",
            "DevOps Engineer              110\n",
            "DotNet Developer             106\n",
            "Network Security Engineer    100\n",
            "Name: count, dtype: int64\n"
          ]
        }
      ],
      "source": [
        "print(result.shape)\n",
        "print(result.columns)\n",
        "print(result.Category.value_counts())\n"
      ]
    },
    {
      "cell_type": "code",
      "execution_count": 9,
      "metadata": {},
      "outputs": [],
      "source": [
        "result['Category'] = result['Category'].str.strip()"
      ]
    },
    {
      "cell_type": "code",
      "execution_count": 10,
      "metadata": {},
      "outputs": [
        {
          "data": {
            "text/plain": [
              "array(['Network Security Engineer', 'DotNet Developer', 'Web Designing',\n",
              "       'Database', 'Blockchain', 'Data Science', 'DevOps Engineer',\n",
              "       'Java Developer', 'Python Developer', 'Testing'], dtype=object)"
            ]
          },
          "execution_count": 10,
          "metadata": {},
          "output_type": "execute_result"
        }
      ],
      "source": [
        "result[\"Category\"].unique()"
      ]
    },
    {
      "cell_type": "code",
      "execution_count": 11,
      "metadata": {},
      "outputs": [],
      "source": [
        "#reducir las etiquetas a 1200\n",
        "def sample_n(df, n=140):\n",
        "    return df.sample(min(len(df), n))\n",
        "\n",
        "df = result.groupby('Category').apply(sample_n).reset_index(drop=True)"
      ]
    },
    {
      "cell_type": "code",
      "execution_count": 12,
      "metadata": {},
      "outputs": [
        {
          "name": "stdout",
          "output_type": "stream",
          "text": [
            "(1252, 3)\n",
            "Index(['Category', 'Clean_Resume', 'Common Skills'], dtype='object')\n",
            "Category\n",
            "Java Developer               140\n",
            "Python Developer             140\n",
            "Testing                      140\n",
            "Web Designing                140\n",
            "Blockchain                   130\n",
            "Data Science                 130\n",
            "Database                     116\n",
            "DevOps Engineer              110\n",
            "DotNet Developer             106\n",
            "Network Security Engineer    100\n",
            "Name: count, dtype: int64\n"
          ]
        }
      ],
      "source": [
        "print(df.shape)\n",
        "print(df.columns)\n",
        "print(df.Category.value_counts())"
      ]
    },
    {
      "cell_type": "code",
      "execution_count": 13,
      "metadata": {},
      "outputs": [
        {
          "data": {
            "text/plain": [
              "<Axes: xlabel='count', ylabel='Category'>"
            ]
          },
          "execution_count": 13,
          "metadata": {},
          "output_type": "execute_result"
        },
        {
          "data": {
            "image/png": "[encoded data removed]",
            "text/plain": [
              "<Figure size 500x500 with 1 Axes>"
            ]
          },
          "metadata": {},
          "output_type": "display_data"
        }
      ],
      "source": [
        "plt.figure(figsize=(5,5))\n",
        "plt.xticks(rotation=90)\n",
        "sns.countplot(y=\"Category\", data=df, palette='Reds')"
      ]
    },
    {
      "cell_type": "code",
      "execution_count": 14,
      "metadata": {},
      "outputs": [],
      "source": [
        "df.to_csv('DatasetRelleno.csv', index=False)\n"
      ]
    }
  ],
  "metadata": {
    "colab": {
      "provenance": []
    },
    "kernelspec": {
      "display_name": "Python 3",
      "name": "python3"
    },
    "language_info": {
      "codemirror_mode": {
        "name": "ipython",
        "version": 3
      },
      "file_extension": ".py",
      "mimetype": "text/x-python",
      "name": "python",
      "nbconvert_exporter": "python",
      "pygments_lexer": "ipython3",
      "version": "3.12.1"
    }
  },
  "nbformat": 4,
  "nbformat_minor": 0
}
