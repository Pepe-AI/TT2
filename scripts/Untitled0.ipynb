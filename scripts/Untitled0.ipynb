{
  "cells": [
    {
      "cell_type": "code",
      "execution_count": 321,
      "metadata": {
        "id": "SfBOXRzfS0kE"
      },
      "outputs": [],
      "source": [
        "import warnings\n",
        "import numpy as np\n",
        "import pandas as pd\n",
        "import seaborn as sns\n",
        "import matplotlib.pyplot as plt\n",
        "\n",
        "from nltk.corpus import stopwords\n",
        "import string\n",
        "from wordcloud import WordCloud\n",
        "\n",
        "from sklearn.preprocessing import LabelEncoder\n",
        "from sklearn.neighbors import KNeighborsClassifier\n",
        "from sklearn import metrics\n",
        "\n",
        "from sklearn.metrics.pairwise import cosine_similarity\n",
        "from sklearn.feature_extraction.text import CountVectorizer\n",
        "\n",
        "from nltk.tokenize import WhitespaceTokenizer\n",
        "\n",
        "import plotly.graph_objects as go\n",
        "import plotly.express as px\n",
        "\n",
        "warnings.filterwarnings('ignore')"
      ]
    },
    {
      "cell_type": "code",
      "execution_count": 322,
      "metadata": {
        "colab": {
          "base_uri": "https://localhost:8080/",
          "height": 318
        },
        "id": "VF7xtG9nb2_7",
        "outputId": "838fad50-8697-453a-d42e-a4123247a5d2"
      },
      "outputs": [
        {
          "name": "stdout",
          "output_type": "stream",
          "text": [
            "(14766, 3)\n"
          ]
        },
        {
          "data": {
            "text/html": [
              "<div>\n",
              "<style scoped>\n",
              "    .dataframe tbody tr th:only-of-type {\n",
              "        vertical-align: middle;\n",
              "    }\n",
              "\n",
              "    .dataframe tbody tr th {\n",
              "        vertical-align: top;\n",
              "    }\n",
              "\n",
              "    .dataframe thead th {\n",
              "        text-align: right;\n",
              "    }\n",
              "</style>\n",
              "<table border=\"1\" class=\"dataframe\">\n",
              "  <thead>\n",
              "    <tr style=\"text-align: right;\">\n",
              "      <th></th>\n",
              "      <th>length</th>\n",
              "    </tr>\n",
              "  </thead>\n",
              "  <tbody>\n",
              "    <tr>\n",
              "      <th>count</th>\n",
              "      <td>14766.000000</td>\n",
              "    </tr>\n",
              "    <tr>\n",
              "      <th>mean</th>\n",
              "      <td>6342.309156</td>\n",
              "    </tr>\n",
              "    <tr>\n",
              "      <th>std</th>\n",
              "      <td>5338.601019</td>\n",
              "    </tr>\n",
              "    <tr>\n",
              "      <th>min</th>\n",
              "      <td>10.000000</td>\n",
              "    </tr>\n",
              "    <tr>\n",
              "      <th>25%</th>\n",
              "      <td>2656.250000</td>\n",
              "    </tr>\n",
              "    <tr>\n",
              "      <th>50%</th>\n",
              "      <td>4543.000000</td>\n",
              "    </tr>\n",
              "    <tr>\n",
              "      <th>75%</th>\n",
              "      <td>8269.750000</td>\n",
              "    </tr>\n",
              "    <tr>\n",
              "      <th>max</th>\n",
              "      <td>83724.000000</td>\n",
              "    </tr>\n",
              "  </tbody>\n",
              "</table>\n",
              "</div>"
            ],
            "text/plain": [
              "             length\n",
              "count  14766.000000\n",
              "mean    6342.309156\n",
              "std     5338.601019\n",
              "min       10.000000\n",
              "25%     2656.250000\n",
              "50%     4543.000000\n",
              "75%     8269.750000\n",
              "max    83724.000000"
            ]
          },
          "execution_count": 322,
          "metadata": {},
          "output_type": "execute_result"
        }
      ],
      "source": [
        "data = pd.read_csv('updated_data_final_cleaned.csv', encoding=\"utf-8\")\n",
        "print(data.shape)\n",
        "data.describe()"
      ]
    },
    {
      "cell_type": "code",
      "execution_count": 323,
      "metadata": {
        "colab": {
          "base_uri": "https://localhost:8080/"
        },
        "id": "SURF_Pr2Ts1S",
        "outputId": "aeabc4c6-bb4b-4e93-fd0f-75a167916f0f"
      },
      "outputs": [
        {
          "name": "stdout",
          "output_type": "stream",
          "text": [
            "<class 'pandas.core.frame.DataFrame'>\n",
            "RangeIndex: 14766 entries, 0 to 14765\n",
            "Data columns (total 3 columns):\n",
            " #   Column       Non-Null Count  Dtype \n",
            "---  ------       --------------  ----- \n",
            " 0   instruction  14766 non-null  object\n",
            " 1   Resume_test  14766 non-null  object\n",
            " 2   length       14766 non-null  int64 \n",
            "dtypes: int64(1), object(2)\n",
            "memory usage: 346.2+ KB\n"
          ]
        }
      ],
      "source": [
        "data.info()"
      ]
    },
    {
      "cell_type": "code",
      "execution_count": 324,
      "metadata": {
        "colab": {
          "base_uri": "https://localhost:8080/",
          "height": 424
        },
        "id": "a-NIqrddTwsi",
        "outputId": "45a9f4a1-04f2-4f95-d336-1ac6f9bbf35f"
      },
      "outputs": [
        {
          "data": {
            "text/html": [
              "<div>\n",
              "<style scoped>\n",
              "    .dataframe tbody tr th:only-of-type {\n",
              "        vertical-align: middle;\n",
              "    }\n",
              "\n",
              "    .dataframe tbody tr th {\n",
              "        vertical-align: top;\n",
              "    }\n",
              "\n",
              "    .dataframe thead th {\n",
              "        text-align: right;\n",
              "    }\n",
              "</style>\n",
              "<table border=\"1\" class=\"dataframe\">\n",
              "  <thead>\n",
              "    <tr style=\"text-align: right;\">\n",
              "      <th></th>\n",
              "      <th>instruction</th>\n",
              "      <th>Resume_test</th>\n",
              "      <th>length</th>\n",
              "    </tr>\n",
              "  </thead>\n",
              "  <tbody>\n",
              "  </tbody>\n",
              "</table>\n",
              "</div>"
            ],
            "text/plain": [
              "Empty DataFrame\n",
              "Columns: [instruction, Resume_test, length]\n",
              "Index: []"
            ]
          },
          "execution_count": 324,
          "metadata": {},
          "output_type": "execute_result"
        }
      ],
      "source": [
        "data[data.isna().any(axis=1) | data.isnull().any(axis=1)]"
      ]
    },
    {
      "cell_type": "code",
      "execution_count": 325,
      "metadata": {
        "colab": {
          "base_uri": "https://localhost:8080/"
        },
        "id": "L6X876iwT1wS",
        "outputId": "3e690c5c-7402-4025-dc5b-9c6b22f37d86"
      },
      "outputs": [
        {
          "data": {
            "text/plain": [
              "instruction       18\n",
              "Resume_test    14300\n",
              "length          8761\n",
              "dtype: int64"
            ]
          },
          "execution_count": 325,
          "metadata": {},
          "output_type": "execute_result"
        }
      ],
      "source": [
        "data.nunique()"
      ]
    },
    {
      "cell_type": "code",
      "execution_count": 326,
      "metadata": {
        "colab": {
          "base_uri": "https://localhost:8080/"
        },
        "id": "UGJU6czAT-WD",
        "outputId": "07695fe0-7807-4e31-a45d-369e6250bf16"
      },
      "outputs": [
        {
          "data": {
            "text/plain": [
              "array(['Automation Testing ', 'Blockchain ', 'Data Science ', 'Database ',\n",
              "       'Designer ', 'DevOps Engineer ', 'DotNet Developer ',\n",
              "       'ETL Developer ', 'Information Technology ', 'Java Developer ',\n",
              "       'Network Security Engineer ', 'Project manager ',\n",
              "       'Python Developer ', 'SAP Developer ', 'Security Analyst ',\n",
              "       'Testing ', 'Web Designing ', 'Web Developer '], dtype=object)"
            ]
          },
          "execution_count": 326,
          "metadata": {},
          "output_type": "execute_result"
        }
      ],
      "source": [
        "valores_unicos = data.instruction.unique()\n",
        "valores_unicos"
      ]
    },
    {
      "cell_type": "code",
      "execution_count": 327,
      "metadata": {
        "id": "kDah0VejUWdD"
      },
      "outputs": [],
      "source": [
        "#eliminar valores\n",
        "valores_a_eliminar = [\"Generate a Resume for a Chef Job\",'Generate a Resume for a Hadoop Job','Generate a Resume for a Software Developer Job','Generate a Resume for a Finance Job','Generate a Resume for a HR Job','Generate a Resume for a Engineering Job','Generate a Resume for a Electrical Engineering Job','Generate a Resume for a Network Administrator Job','Generate a Resume for a Digital Media Job','Generate a Resume for a Systems Administrator Job','Generate a Resume for a Database Administrator Job','Generate a Resume for a Systems Administrator Job','Generate a Resume for a Consultant Job','Generate a Resume for a Banking Job','Generate a Resume for a Business Development Job','Generate a Resume for a Business Development Job','Generate a Resume for a Business Analyst Job','Generate a Resume for a Automobile Job',\"Generate a Resume for a Aviation Job\",'Generate a Resume for a BPO Job', \"Generate a Resume for a Civil Engineer Job\", \"Generate a Resume for a Construction Job\", \"Generate a Resume for a Fitness Job\", \"Generate a Resume for a Health and fitness Job\", \"Generate a Resume for a Healthcare Job\", \"Generate a Resume for a Mechanical Engineer Job\", \"Generate a Resume for a Operations Manager Job\", \"Generate a Resume for a PMO Job\", \"Generate a Resume for a Public Relations Job\", \"Generate a Resume for a Sales Job\", \"Generate a Resume for a Teacher Job\", \"Generate a Resume for a Accountant Job\", 'Generate a Resume for a Advocate Job', 'Generate a Resume for a Agriculture Job', 'Generate a Resume for a Apparel Job','Generate a Resume for a Arts Job']\n",
        "df = data[~data['instruction'].isin(valores_a_eliminar)]"
      ]
    },
    {
      "cell_type": "code",
      "execution_count": 328,
      "metadata": {
        "colab": {
          "base_uri": "https://localhost:8080/"
        },
        "id": "nhyQAbflUitz",
        "outputId": "612ecace-6ff7-48e3-8fd8-4d591ad2a707"
      },
      "outputs": [
        {
          "name": "stdout",
          "output_type": "stream",
          "text": [
            "['Automation Testing ' 'Blockchain ' 'Data Science ' 'Database '\n",
            " 'Designer ' 'DevOps Engineer ' 'DotNet Developer ' 'ETL Developer '\n",
            " 'Information Technology ' 'Java Developer ' 'Network Security Engineer '\n",
            " 'Project manager ' 'Python Developer ' 'SAP Developer '\n",
            " 'Security Analyst ' 'Testing ' 'Web Designing ' 'Web Developer ']\n"
          ]
        }
      ],
      "source": [
        "#imprimimos las etiquetas nuevas que quedaron\n",
        "valores_unicos = df.instruction.unique()\n",
        "print(valores_unicos)"
      ]
    },
    {
      "cell_type": "code",
      "execution_count": 329,
      "metadata": {
        "colab": {
          "base_uri": "https://localhost:8080/",
          "height": 365
        },
        "id": "8dIBQkYrXNS6",
        "outputId": "49aaa3f4-2f28-498a-aa79-5a910bc7dd89"
      },
      "outputs": [
        {
          "data": {
            "text/plain": [
              "'Freelance Web Designer Developer Freelance span lWebspan Designerspan lDeveloperspan Arlington TX Recent college graduate with 3 years of experience in web design web content management and digital marketing Im a Communication Technology major seeking to be a part of a challenging environment that utilizes teamwork efforts for researching learning and developing new hightech products in the Dallas Fort Worth area Authorized to work in the US for any employer Work Experience Freelance Web Designer Developer QBs Clean Cut Designs Arlington TX September 2016 to Present Design and develop websites using content management systems and hand coding Create complex graphics and professional designs for a variety of businesses and organizations Write and edit web code HTML CSS JavaScript Query Campaign Manager DexYP Grapevine TX June 2017 to August 2018 Developed and managed online marketing campaigns for small business owners which increased their online visibility by 50 Provided desktop support for flagship CRM software Thryv Developed quarterly reports based on digital marketing campaign performance Created and edited content for business owners through website content editor WordPress Webmaster The University of Texas at Arlington Arlington TX June 2015 to June 2017 Managed departments website by revising and adding content with Cascade CMS Managed departments social media platforms Facebook Twitter Instagram Flickr YouTube Served on the Annual CAAS Conference Committee as photographer and videographer Developed marketing materials for departments events on campus Education BA in Communication Technology University of Texas at Arlington Arlington TX August 2012 to December 2016 Skills Content Management Systems 3 years Digital Marketing 1 year Social Networking 4 years HTML 3 years CSS 3 years CRM 1 year Digital Photography 2 years Video Editing 2 years Webex 1 year Website Design 3 years Web Services 4 years SEM Email Fundraising PPC Salesforce 2 years Graphic Design Marketing Adobe Wordpress Photoshop Web Design Branding Typography Advertising Indesign Javascript Jquery HTML 5 Links httpsquincyburseweeblycom httpswwwlinkedincominquincyburse'"
            ]
          },
          "execution_count": 329,
          "metadata": {},
          "output_type": "execute_result"
        }
      ],
      "source": [
        "df.Resume_test[555]"
      ]
    },
    {
      "cell_type": "code",
      "execution_count": 330,
      "metadata": {
        "colab": {
          "base_uri": "https://localhost:8080/"
        },
        "id": "eqJXIsvRV9LL",
        "outputId": "0c3ba467-9310-4cc0-80b7-ea6d0a64d841"
      },
      "outputs": [
        {
          "data": {
            "text/plain": [
              "instruction       18\n",
              "Resume_test    14300\n",
              "length          8761\n",
              "dtype: int64"
            ]
          },
          "execution_count": 330,
          "metadata": {},
          "output_type": "execute_result"
        }
      ],
      "source": [
        "df.nunique()"
      ]
    },
    {
      "cell_type": "code",
      "execution_count": 331,
      "metadata": {
        "colab": {
          "base_uri": "https://localhost:8080/"
        },
        "id": "0uW9F3hYYvJT",
        "outputId": "f832e6c1-7a7f-41bb-b8bb-ff046f786cdb"
      },
      "outputs": [
        {
          "data": {
            "text/plain": [
              "count    14766.000000\n",
              "mean      6342.309156\n",
              "std       5338.601019\n",
              "min         10.000000\n",
              "25%       2656.250000\n",
              "50%       4543.000000\n",
              "75%       8269.750000\n",
              "max      83724.000000\n",
              "Name: length, dtype: float64"
            ]
          },
          "execution_count": 331,
          "metadata": {},
          "output_type": "execute_result"
        }
      ],
      "source": [
        "df['length'] = df['Resume_test'].str.len()\n",
        "df['length'].describe()"
      ]
    },
    {
      "cell_type": "code",
      "execution_count": 332,
      "metadata": {
        "colab": {
          "base_uri": "https://localhost:8080/",
          "height": 581
        },
        "id": "nnPaLjDuZo-s",
        "outputId": "345b6675-ccf8-4450-c035-a29d00e33fc8"
      },
      "outputs": [
        {
          "data": {
            "text/plain": [
              "Text(0.5, 1.0, 'Resume length distribution')"
            ]
          },
          "execution_count": 332,
          "metadata": {},
          "output_type": "execute_result"
        },
        {
          "data": {
            "image/png": "[encoded data removed]",
            "text/plain": [
              "<Figure size 1280x600 with 1 Axes>"
            ]
          },
          "metadata": {},
          "output_type": "display_data"
        }
      ],
      "source": [
        "plt.figure(figsize=(12.8,6))\n",
        "sns.distplot(df['length']).set_title('Resume length distribution')"
      ]
    },
    {
      "cell_type": "code",
      "execution_count": 333,
      "metadata": {
        "colab": {
          "base_uri": "https://localhost:8080/"
        },
        "id": "2FAWoEeGZxNU",
        "outputId": "3bc3a5b1-32b9-426c-d029-d040b58bc6a4"
      },
      "outputs": [
        {
          "data": {
            "text/plain": [
              "instruction\n",
              "Project manager               3527\n",
              "Web Developer                 3466\n",
              "Java Developer                2502\n",
              "Python Developer              2359\n",
              "Security Analyst              2259\n",
              "Information Technology         120\n",
              "Designer                       107\n",
              "Testing                         70\n",
              "DevOps Engineer                 55\n",
              "Web Designing                   45\n",
              "ETL Developer                   40\n",
              "Blockchain                      40\n",
              "Data Science                    40\n",
              "Database                        33\n",
              "DotNet Developer                28\n",
              "Automation Testing              26\n",
              "Network Security Engineer       25\n",
              "SAP Developer                   24\n",
              "Name: count, dtype: int64"
            ]
          },
          "execution_count": 333,
          "metadata": {},
          "output_type": "execute_result"
        }
      ],
      "source": [
        "df['instruction'].value_counts()"
      ]
    },
    {
      "cell_type": "code",
      "execution_count": 334,
      "metadata": {
        "colab": {
          "base_uri": "https://localhost:8080/",
          "height": 503
        },
        "id": "p_pOVE-EaEbE",
        "outputId": "98f5b8ff-9454-46de-ddc1-100956030b15"
      },
      "outputs": [
        {
          "data": {
            "text/plain": [
              "<Axes: xlabel='count', ylabel='instruction'>"
            ]
          },
          "execution_count": 334,
          "metadata": {},
          "output_type": "execute_result"
        },
        {
          "data": {
            "image/png": "[encoded data removed]",
            "text/plain": [
              "<Figure size 500x500 with 1 Axes>"
            ]
          },
          "metadata": {},
          "output_type": "display_data"
        }
      ],
      "source": [
        "plt.figure(figsize=(5,5))\n",
        "plt.xticks(rotation=90)\n",
        "sns.countplot(y=\"instruction\", data=df, palette='Reds')"
      ]
    },
    {
      "cell_type": "code",
      "execution_count": 335,
      "metadata": {},
      "outputs": [
        {
          "name": "stdout",
          "output_type": "stream",
          "text": [
            "La etiqueta aparece 0 veces\n"
          ]
        }
      ],
      "source": [
        "# Reemplaza 'instruccion' con el nombre de tu columna\n",
        "# Reemplaza 'etiqueta' con la etiqueta que quieres contar\n",
        "conteo_etiquetas = df['instruction'].value_counts().get('Generate a Resume for a DotNet Developer Job', 0)\n",
        "\n",
        "print(f\"La etiqueta aparece {conteo_etiquetas} veces\")"
      ]
    },
    {
      "cell_type": "code",
      "execution_count": 336,
      "metadata": {},
      "outputs": [
        {
          "data": {
            "text/plain": [
              "0        Automation Testing \n",
              "1        Automation Testing \n",
              "2        Automation Testing \n",
              "3        Automation Testing \n",
              "4        Automation Testing \n",
              "                ...         \n",
              "14761         Web Developer \n",
              "14762         Web Developer \n",
              "14763         Web Developer \n",
              "14764         Web Developer \n",
              "14765         Web Developer \n",
              "Name: instruction, Length: 14766, dtype: object"
            ]
          },
          "execution_count": 336,
          "metadata": {},
          "output_type": "execute_result"
        }
      ],
      "source": [
        "df['instruction'] = df['instruction'].str.replace('Generate a Resume for a ', '')\n",
        "df['instruction'] = df['instruction'].str.split('Job').str[0]\n",
        "\n",
        "df.reset_index(drop=True, inplace=True)\n",
        "\n",
        "df['instruction']"
      ]
    },
    {
      "cell_type": "code",
      "execution_count": 337,
      "metadata": {},
      "outputs": [],
      "source": [
        "df.to_csv('updated_data_final_cleaned2.csv', index=False)\n"
      ]
    },
    {
      "cell_type": "code",
      "execution_count": 338,
      "metadata": {},
      "outputs": [
        {
          "name": "stdout",
          "output_type": "stream",
          "text": [
            "<class 'pandas.core.frame.DataFrame'>\n",
            "RangeIndex: 14766 entries, 0 to 14765\n",
            "Data columns (total 3 columns):\n",
            " #   Column    Non-Null Count  Dtype \n",
            "---  ------    --------------  ----- \n",
            " 0   Category  14766 non-null  object\n",
            " 1   Resume    14766 non-null  object\n",
            " 2   length    14766 non-null  int64 \n",
            "dtypes: int64(1), object(2)\n",
            "memory usage: 346.2+ KB\n",
            "None\n",
            "<class 'pandas.core.frame.DataFrame'>\n",
            "RangeIndex: 11024 entries, 0 to 11023\n",
            "Data columns (total 2 columns):\n",
            " #   Column    Non-Null Count  Dtype \n",
            "---  ------    --------------  ----- \n",
            " 0   Category  11024 non-null  object\n",
            " 1   Resume    11024 non-null  object\n",
            "dtypes: object(2)\n",
            "memory usage: 172.4+ KB\n",
            "None\n"
          ]
        }
      ],
      "source": [
        "data_1 = pd.read_csv('updated_data_final_cleaned2.csv', encoding=\"utf-8\")\n",
        "data_2 = pd.read_csv('Curriculum Vitae.csv', encoding=\"utf-8\")\n",
        "\n",
        "data_1.head()\n",
        "\n",
        "\n",
        "data_1.rename(columns={'Resume_test': 'Resume'}, inplace=True)\n",
        "\n",
        "data_1.rename(columns={'instruction': 'Category'}, inplace=True)\n",
        "\n",
        "print(data_1.info())\n",
        "\n",
        "print(data_2.info())\n",
        "\n"
      ]
    },
    {
      "cell_type": "code",
      "execution_count": 339,
      "metadata": {},
      "outputs": [
        {
          "name": "stdout",
          "output_type": "stream",
          "text": [
            "False\n",
            "Category    0\n",
            "Resume      0\n",
            "dtype: int64\n"
          ]
        }
      ],
      "source": [
        "# Verifica si hay valores nulos en el dataset\n",
        "nulos_en_dataset = data_2.isnull().any().any()\n",
        "\n",
        "# Mostrará True si hay al menos un valor nulo en el dataset, de lo contrario mostrará False\n",
        "print(nulos_en_dataset)\n",
        "\n",
        "\n",
        "# Si quieres obtener más detalles, como la cantidad de valores nulos por columna, puedes hacer lo siguiente:\n",
        "nulos_por_columna = data_2.isnull().sum()\n",
        "print(nulos_por_columna)"
      ]
    },
    {
      "cell_type": "code",
      "execution_count": 340,
      "metadata": {},
      "outputs": [
        {
          "name": "stdout",
          "output_type": "stream",
          "text": [
            "(14766, 3)\n",
            "Index(['Category', 'Resume', 'length'], dtype='object')\n",
            "Category\n",
            "Project manager               3527\n",
            "Web Developer                 3466\n",
            "Java Developer                2502\n",
            "Python Developer              2359\n",
            "Security Analyst              2259\n",
            "Information Technology         120\n",
            "Designer                       107\n",
            "Testing                         70\n",
            "DevOps Engineer                 55\n",
            "Web Designing                   45\n",
            "ETL Developer                   40\n",
            "Blockchain                      40\n",
            "Data Science                    40\n",
            "Database                        33\n",
            "DotNet Developer                28\n",
            "Automation Testing              26\n",
            "Network Security Engineer       25\n",
            "SAP Developer                   24\n",
            "Name: count, dtype: int64\n"
          ]
        }
      ],
      "source": [
        "print(data_1.shape)\n",
        "print(data_1.columns)\n",
        "print(data_1.Category.value_counts())\n"
      ]
    },
    {
      "cell_type": "code",
      "execution_count": 341,
      "metadata": {},
      "outputs": [
        {
          "name": "stdout",
          "output_type": "stream",
          "text": [
            "(11024, 2)\n",
            "Index(['Category', 'Resume'], dtype='object')\n",
            "Category\n",
            "Testing                      1120\n",
            "Java Developer                924\n",
            "DevOps Engineer               660\n",
            "Python Developer              559\n",
            "Blockchain                    540\n",
            "Hadoop                        504\n",
            "ETL Developer                 480\n",
            "Web Designing                 450\n",
            "HR                            440\n",
            "Operations Manager            440\n",
            "Data Science                  400\n",
            "Sales                         400\n",
            "Mechanical Engineer           400\n",
            "Database                      396\n",
            "PMO                           360\n",
            "Arts                          360\n",
            "DotNet Developer              336\n",
            "Electrical Engineering        330\n",
            "Business Analyst              308\n",
            "Health and fitness            303\n",
            "Network Security Engineer     300\n",
            "Automation Testing            286\n",
            "SAP Developer                 264\n",
            "Civil Engineer                264\n",
            "Advocate                      200\n",
            "Name: count, dtype: int64\n"
          ]
        }
      ],
      "source": [
        "\n",
        "print(data_2.shape)\n",
        "print(data_2.columns)\n",
        "print(data_2.Category.value_counts())\n"
      ]
    },
    {
      "cell_type": "code",
      "execution_count": 342,
      "metadata": {},
      "outputs": [],
      "source": [
        "rows_to_add = data_2.shape[0] - data_1.shape[0]\n",
        "\n",
        "additional_rows = pd.DataFrame(index=range(rows_to_add), columns=data_2.columns)\n",
        "\n",
        "df2_aligned = pd.concat([additional_rows, data_2], ignore_index=True)\n",
        "\n",
        "result = pd.concat([data_1, df2_aligned], axis=0)\n",
        "\n",
        "result.drop(result.columns[result.columns.str.contains('unnamed',case = False)],axis = 1, inplace = True)\n",
        "\n"
      ]
    },
    {
      "cell_type": "code",
      "execution_count": 343,
      "metadata": {},
      "outputs": [
        {
          "name": "stdout",
          "output_type": "stream",
          "text": [
            "True\n",
            "Category        0\n",
            "Resume          0\n",
            "length      11024\n",
            "dtype: int64\n"
          ]
        }
      ],
      "source": [
        "# Verifica si hay valores nulos en el dataset\n",
        "nulos_en_dataset = result.isnull().any().any()\n",
        "\n",
        "# Mostrará True si hay al menos un valor nulo en el dataset, de lo contrario mostrará False\n",
        "print(nulos_en_dataset)\n",
        "\n",
        "\n",
        "# Si quieres obtener más detalles, como la cantidad de valores nulos por columna, puedes hacer lo siguiente:\n",
        "nulos_por_columna = result.isnull().sum()\n",
        "print(nulos_por_columna)"
      ]
    },
    {
      "cell_type": "code",
      "execution_count": 344,
      "metadata": {},
      "outputs": [
        {
          "name": "stdout",
          "output_type": "stream",
          "text": [
            "(25790, 3)\n",
            "Index(['Category', 'Resume', 'length'], dtype='object')\n",
            "Category\n",
            "Project manager               3527\n",
            "Web Developer                 3466\n",
            "Java Developer                2502\n",
            "Python Developer              2359\n",
            "Security Analyst              2259\n",
            "Testing                       1120\n",
            "Java Developer                 924\n",
            "DevOps Engineer                660\n",
            "Python Developer               559\n",
            "Blockchain                     540\n",
            "Hadoop                         504\n",
            "ETL Developer                  480\n",
            "Web Designing                  450\n",
            "Operations Manager             440\n",
            "HR                             440\n",
            "Sales                          400\n",
            "Mechanical Engineer            400\n",
            "Data Science                   400\n",
            "Database                       396\n",
            "PMO                            360\n",
            "Arts                           360\n",
            "DotNet Developer               336\n",
            "Electrical Engineering         330\n",
            "Business Analyst               308\n",
            "Health and fitness             303\n",
            "Network Security Engineer      300\n",
            "Automation Testing             286\n",
            "Civil Engineer                 264\n",
            "SAP Developer                  264\n",
            "Advocate                       200\n",
            "Information Technology         120\n",
            "Designer                       107\n",
            "Testing                         70\n",
            "DevOps Engineer                 55\n",
            "Web Designing                   45\n",
            "Blockchain                      40\n",
            "ETL Developer                   40\n",
            "Data Science                    40\n",
            "Database                        33\n",
            "DotNet Developer                28\n",
            "Automation Testing              26\n",
            "Network Security Engineer       25\n",
            "SAP Developer                   24\n",
            "Name: count, dtype: int64\n"
          ]
        }
      ],
      "source": [
        "print(result.shape)\n",
        "print(result.columns)\n",
        "print(result.Category.value_counts())\n"
      ]
    },
    {
      "cell_type": "code",
      "execution_count": 345,
      "metadata": {},
      "outputs": [
        {
          "name": "stdout",
          "output_type": "stream",
          "text": [
            "(25790, 3)\n",
            "Index(['Category', 'Resume', 'length'], dtype='object')\n",
            "Category\n",
            "Project manager               3527\n",
            "Web Developer                 3466\n",
            "Java Developer                2502\n",
            "Python Developer              2359\n",
            "Security Analyst              2259\n",
            "Testing                       1120\n",
            "Java Developer                 924\n",
            "DevOps Engineer                660\n",
            "Python Developer               559\n",
            "Blockchain                     540\n",
            "Hadoop                         504\n",
            "ETL Developer                  480\n",
            "Web Designing                  450\n",
            "Operations Manager             440\n",
            "HR                             440\n",
            "Sales                          400\n",
            "Mechanical Engineer            400\n",
            "Data Science                   400\n",
            "Database                       396\n",
            "PMO                            360\n",
            "Arts                           360\n",
            "DotNet Developer               336\n",
            "Electrical Engineering         330\n",
            "Business Analyst               308\n",
            "Health and fitness             303\n",
            "Network Security Engineer      300\n",
            "Automation Testing             286\n",
            "Civil Engineer                 264\n",
            "SAP Developer                  264\n",
            "Advocate                       200\n",
            "Information Technology         120\n",
            "Designer                       107\n",
            "Testing                         70\n",
            "DevOps Engineer                 55\n",
            "Web Designing                   45\n",
            "Blockchain                      40\n",
            "ETL Developer                   40\n",
            "Data Science                    40\n",
            "Database                        33\n",
            "DotNet Developer                28\n",
            "Automation Testing              26\n",
            "Network Security Engineer       25\n",
            "SAP Developer                   24\n",
            "Name: count, dtype: int64\n"
          ]
        }
      ],
      "source": [
        "print(result.shape)\n",
        "print(result.columns)\n",
        "print(result.Category.value_counts())\n"
      ]
    },
    {
      "cell_type": "code",
      "execution_count": 346,
      "metadata": {},
      "outputs": [],
      "source": [
        "result['Category'] = result['Category'].str.strip()"
      ]
    },
    {
      "cell_type": "code",
      "execution_count": 347,
      "metadata": {},
      "outputs": [
        {
          "data": {
            "text/plain": [
              "array(['Blockchain', 'Data Science', 'Database', 'Designer',\n",
              "       'DevOps Engineer', 'DotNet Developer', 'ETL Developer',\n",
              "       'Information Technology', 'Java Developer',\n",
              "       'Network Security Engineer', 'Project manager', 'Python Developer',\n",
              "       'Security Analyst', 'Testing', 'Web Designing', 'Web Developer',\n",
              "       'Hadoop'], dtype=object)"
            ]
          },
          "execution_count": 347,
          "metadata": {},
          "output_type": "execute_result"
        }
      ],
      "source": [
        "\n",
        "\n",
        "#eliminar valores\n",
        "valores_a_eliminar = ['HR','Advocate','Arts','Sales','Mechanical Engineer', 'Health and fitness','Civil Engineer', 'Business Analyst', 'Electrical Engineering', 'Operations Manager', 'PMO',\"SAP Developer\", \"Automation Testing\"]\n",
        "result = result[~result['Category'].isin(valores_a_eliminar)]\n",
        "\n",
        "result[\"Category\"].unique()"
      ]
    },
    {
      "cell_type": "code",
      "execution_count": 348,
      "metadata": {},
      "outputs": [
        {
          "data": {
            "text/plain": [
              "array(['Blockchain', 'Data Science', 'Database', 'DevOps Engineer',\n",
              "       'DotNet Developer', 'Information Technology', 'Java Developer',\n",
              "       'Network Security Engineer', 'Python Developer', 'Testing',\n",
              "       'Web Designing'], dtype=object)"
            ]
          },
          "execution_count": 348,
          "metadata": {},
          "output_type": "execute_result"
        }
      ],
      "source": [
        "#eliminar valores\n",
        "valores_a_eliminar = ['SAP Developer ', 'Designer', 'Automation Testing','Project manager', 'SAP Developer', 'Security Analyst','ETL Developer','Hadoop','Web Developer']\n",
        "df = result[~result['Category'].isin(valores_a_eliminar)]\n",
        "\n",
        "df[\"Category\"].unique()\n",
        "\n"
      ]
    },
    {
      "cell_type": "code",
      "execution_count": 349,
      "metadata": {},
      "outputs": [
        {
          "name": "stdout",
          "output_type": "stream",
          "text": [
            "(11002, 3)\n",
            "Index(['Category', 'Resume', 'length'], dtype='object')\n",
            "Category\n",
            "Java Developer               3426\n",
            "Python Developer             2918\n",
            "Testing                      1190\n",
            "DevOps Engineer               715\n",
            "Blockchain                    580\n",
            "Web Designing                 495\n",
            "Data Science                  440\n",
            "Database                      429\n",
            "DotNet Developer              364\n",
            "Network Security Engineer     325\n",
            "Information Technology        120\n",
            "Name: count, dtype: int64\n"
          ]
        }
      ],
      "source": [
        "print(df.shape)\n",
        "print(df.columns)\n",
        "print(df.Category.value_counts())"
      ]
    },
    {
      "cell_type": "code",
      "execution_count": 350,
      "metadata": {},
      "outputs": [],
      "source": [
        "#reducir las etiquetas a 1200\n",
        "def sample_n(df, n=1300):\n",
        "    return df.sample(min(len(df), n))\n",
        "\n",
        "df = df.groupby('Category').apply(sample_n).reset_index(drop=True)"
      ]
    },
    {
      "cell_type": "code",
      "execution_count": 351,
      "metadata": {},
      "outputs": [
        {
          "name": "stdout",
          "output_type": "stream",
          "text": [
            "(7258, 3)\n",
            "Index(['Category', 'Resume', 'length'], dtype='object')\n",
            "Category\n",
            "Java Developer               1300\n",
            "Python Developer             1300\n",
            "Testing                      1190\n",
            "DevOps Engineer               715\n",
            "Blockchain                    580\n",
            "Web Designing                 495\n",
            "Data Science                  440\n",
            "Database                      429\n",
            "DotNet Developer              364\n",
            "Network Security Engineer     325\n",
            "Information Technology        120\n",
            "Name: count, dtype: int64\n"
          ]
        }
      ],
      "source": [
        "print(df.shape)\n",
        "print(df.columns)\n",
        "print(df.Category.value_counts())"
      ]
    },
    {
      "cell_type": "code",
      "execution_count": 352,
      "metadata": {},
      "outputs": [
        {
          "data": {
            "text/plain": [
              "<Axes: xlabel='count', ylabel='Category'>"
            ]
          },
          "execution_count": 352,
          "metadata": {},
          "output_type": "execute_result"
        },
        {
          "data": {
            "image/png": "[encoded data removed]",
            "text/plain": [
              "<Figure size 500x500 with 1 Axes>"
            ]
          },
          "metadata": {},
          "output_type": "display_data"
        }
      ],
      "source": [
        "plt.figure(figsize=(5,5))\n",
        "plt.xticks(rotation=90)\n",
        "sns.countplot(y=\"Category\", data=df, palette='Reds')"
      ]
    },
    {
      "cell_type": "code",
      "execution_count": 354,
      "metadata": {},
      "outputs": [],
      "source": [
        "df.to_csv('updated_data_final_cleaned3.csv', index=False)"
      ]
    }
  ],
  "metadata": {
    "colab": {
      "provenance": []
    },
    "kernelspec": {
      "display_name": "Python 3",
      "name": "python3"
    },
    "language_info": {
      "codemirror_mode": {
        "name": "ipython",
        "version": 3
      },
      "file_extension": ".py",
      "mimetype": "text/x-python",
      "name": "python",
      "nbconvert_exporter": "python",
      "pygments_lexer": "ipython3",
      "version": "3.12.1"
    }
  },
  "nbformat": 4,
  "nbformat_minor": 0
}
