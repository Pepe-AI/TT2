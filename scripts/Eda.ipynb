{
 "cells": [
  {
   "cell_type": "code",
   "execution_count": null,
   "metadata": {},
   "outputs": [],
   "source": [
    "import pandas as pd\n",
    "import matplotlib.pyplot as plt\n",
    "import seaborn as sns"
   ]
  },
  {
   "cell_type": "code",
   "execution_count": null,
   "metadata": {},
   "outputs": [],
   "source": [
    "#Cargar dataset\n",
    "df = pd.read_csv('job_descriptions.csv', encoding=\"utf-8\")"
   ]
  },
  {
   "cell_type": "code",
   "execution_count": null,
   "metadata": {},
   "outputs": [],
   "source": [
    "#Eliminar columnas no necesarias\n",
    "df = df.drop(['latitude', 'longitude', 'Company Size', 'Job Posting Date', 'Preference', 'Contact Person', 'Contact', 'Job Portal', 'Benefits', 'Company Profile'], axis=1)\n",
    "\n",
    "# Imprimir el número de columnas\n",
    "print(\"Número de columnas:\", len(df.columns))"
   ]
  },
  {
   "cell_type": "code",
   "execution_count": null,
   "metadata": {},
   "outputs": [],
   "source": [
    "# Contar cuántas veces aparece 'México' en la columna 'country'\n",
    "conteo_mexico = (df['Country'] == 'Mexico').sum()\n",
    "\n",
    "# Imprimir el resultado\n",
    "print(\"Número de veces que aparece México:\", conteo_mexico)"
   ]
  },
  {
   "cell_type": "code",
   "execution_count": null,
   "metadata": {},
   "outputs": [],
   "source": [
    "# Seleccionar la columna\n",
    "columna = df[\"Job Title\"]\n",
    "\n",
    "# Seleccionar la columna\n",
    "columna2 = df[\"Role\"]\n",
    "\n",
    "# Contar valores únicos\n",
    "jobTitle_valores_unicos = columna.unique().shape[0]\n",
    "\n",
    "# Imprimir el resultado\n",
    "print(f\"Número de valores únicos en la columna 'Job Title': {jobTitle_valores_unicos}\")"
   ]
  },
  {
   "cell_type": "code",
   "execution_count": null,
   "metadata": {},
   "outputs": [],
   "source": [
    "valores = []\n",
    "\n",
    "for valor in columna.unique():\n",
    "    valores.append(valor)\n",
    "\n",
    "print(valores)"
   ]
  }
 ],
 "metadata": {
  "language_info": {
   "name": "python"
  }
 },
 "nbformat": 4,
 "nbformat_minor": 2
}
