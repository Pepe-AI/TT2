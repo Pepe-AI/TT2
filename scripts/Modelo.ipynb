{
 "cells": [
  {
   "cell_type": "code",
   "execution_count": 14,
   "metadata": {},
   "outputs": [],
   "source": [
    "import numpy as np\n",
    "import pandas as pd\n",
    "from imblearn.over_sampling import SMOTE\n",
    "from sklearn.preprocessing import LabelEncoder"
   ]
  },
  {
   "cell_type": "code",
   "execution_count": 10,
   "metadata": {},
   "outputs": [],
   "source": [
    "#Cargar dataset\n",
    "data = pd.read_csv('Datase_ML.csv', encoding=\"utf-8\")"
   ]
  },
  {
   "cell_type": "code",
   "execution_count": 11,
   "metadata": {},
   "outputs": [],
   "source": [
    "df = data.drop(columns=['length', 'cleaned_resume'])"
   ]
  },
  {
   "cell_type": "code",
   "execution_count": 12,
   "metadata": {},
   "outputs": [
    {
     "data": {
      "text/html": [
       "<div>\n",
       "<style scoped>\n",
       "    .dataframe tbody tr th:only-of-type {\n",
       "        vertical-align: middle;\n",
       "    }\n",
       "\n",
       "    .dataframe tbody tr th {\n",
       "        vertical-align: top;\n",
       "    }\n",
       "\n",
       "    .dataframe thead th {\n",
       "        text-align: right;\n",
       "    }\n",
       "</style>\n",
       "<table border=\"1\" class=\"dataframe\">\n",
       "  <thead>\n",
       "    <tr style=\"text-align: right;\">\n",
       "      <th></th>\n",
       "      <th>Category</th>\n",
       "      <th>Resume</th>\n",
       "      <th>cleaned_Resume</th>\n",
       "    </tr>\n",
       "  </thead>\n",
       "  <tbody>\n",
       "    <tr>\n",
       "      <th>0</th>\n",
       "      <td>Blockchain</td>\n",
       "      <td>SOFTWARE SKILLS: Languages: C, C++ &amp; java Oper...</td>\n",
       "      <td>SOFTWARE SKILLS Languages C C java Operating S...</td>\n",
       "    </tr>\n",
       "    <tr>\n",
       "      <th>1</th>\n",
       "      <td>Blockchain</td>\n",
       "      <td>Skills Strong CS fundamentals and problem solv...</td>\n",
       "      <td>Skills Strong CS fundamentals and problem solv...</td>\n",
       "    </tr>\n",
       "    <tr>\n",
       "      <th>2</th>\n",
       "      <td>Blockchain</td>\n",
       "      <td>Hobbies â¢ Playing Chess â¢ Solving Rubik's ...</td>\n",
       "      <td>Hobbies Playing Chess Solving Rubik s Cube Wat...</td>\n",
       "    </tr>\n",
       "    <tr>\n",
       "      <th>3</th>\n",
       "      <td>Blockchain</td>\n",
       "      <td>Skills Strong CS fundamentals and problem solv...</td>\n",
       "      <td>Skills Strong CS fundamentals and problem solv...</td>\n",
       "    </tr>\n",
       "    <tr>\n",
       "      <th>4</th>\n",
       "      <td>Blockchain</td>\n",
       "      <td>SKILLS Bitcoin, Ethereum Solidity Hyperledger,...</td>\n",
       "      <td>SKILLS Bitcoin Ethereum Solidity Hyperledger B...</td>\n",
       "    </tr>\n",
       "    <tr>\n",
       "      <th>...</th>\n",
       "      <td>...</td>\n",
       "      <td>...</td>\n",
       "      <td>...</td>\n",
       "    </tr>\n",
       "    <tr>\n",
       "      <th>7758</th>\n",
       "      <td>Web Developer</td>\n",
       "      <td>UI Developer UI span lDeveloperspan UI Develop...</td>\n",
       "      <td>UI Developer UI span lDeveloperspan UI Develop...</td>\n",
       "    </tr>\n",
       "    <tr>\n",
       "      <th>7759</th>\n",
       "      <td>Web Developer</td>\n",
       "      <td>QA Engineer QA Engineer QA Engineer Muskian In...</td>\n",
       "      <td>QA Engineer QA Engineer QA Engineer Muskian In...</td>\n",
       "    </tr>\n",
       "    <tr>\n",
       "      <th>7760</th>\n",
       "      <td>Web Developer</td>\n",
       "      <td>Network Engineer span lNetworkspan Engineer Se...</td>\n",
       "      <td>Network Engineer span lNetworkspan Engineer Se...</td>\n",
       "    </tr>\n",
       "    <tr>\n",
       "      <th>7761</th>\n",
       "      <td>Web Developer</td>\n",
       "      <td>PHP Developer PHP span lDeveloperspan LAMP PHP...</td>\n",
       "      <td>PHP Developer PHP span lDeveloperspan LAMP PHP...</td>\n",
       "    </tr>\n",
       "    <tr>\n",
       "      <th>7762</th>\n",
       "      <td>Web Developer</td>\n",
       "      <td>Java Microservices Developer Java Microservice...</td>\n",
       "      <td>Java Microservices Developer Java Microservice...</td>\n",
       "    </tr>\n",
       "  </tbody>\n",
       "</table>\n",
       "<p>7763 rows × 3 columns</p>\n",
       "</div>"
      ],
      "text/plain": [
       "           Category                                             Resume  \\\n",
       "0        Blockchain  SOFTWARE SKILLS: Languages: C, C++ & java Oper...   \n",
       "1        Blockchain  Skills Strong CS fundamentals and problem solv...   \n",
       "2        Blockchain  Hobbies â¢ Playing Chess â¢ Solving Rubik's ...   \n",
       "3        Blockchain  Skills Strong CS fundamentals and problem solv...   \n",
       "4        Blockchain  SKILLS Bitcoin, Ethereum Solidity Hyperledger,...   \n",
       "...             ...                                                ...   \n",
       "7758  Web Developer  UI Developer UI span lDeveloperspan UI Develop...   \n",
       "7759  Web Developer  QA Engineer QA Engineer QA Engineer Muskian In...   \n",
       "7760  Web Developer  Network Engineer span lNetworkspan Engineer Se...   \n",
       "7761  Web Developer  PHP Developer PHP span lDeveloperspan LAMP PHP...   \n",
       "7762  Web Developer  Java Microservices Developer Java Microservice...   \n",
       "\n",
       "                                         cleaned_Resume  \n",
       "0     SOFTWARE SKILLS Languages C C java Operating S...  \n",
       "1     Skills Strong CS fundamentals and problem solv...  \n",
       "2     Hobbies Playing Chess Solving Rubik s Cube Wat...  \n",
       "3     Skills Strong CS fundamentals and problem solv...  \n",
       "4     SKILLS Bitcoin Ethereum Solidity Hyperledger B...  \n",
       "...                                                 ...  \n",
       "7758  UI Developer UI span lDeveloperspan UI Develop...  \n",
       "7759  QA Engineer QA Engineer QA Engineer Muskian In...  \n",
       "7760  Network Engineer span lNetworkspan Engineer Se...  \n",
       "7761  PHP Developer PHP span lDeveloperspan LAMP PHP...  \n",
       "7762  Java Microservices Developer Java Microservice...  \n",
       "\n",
       "[7763 rows x 3 columns]"
      ]
     },
     "execution_count": 12,
     "metadata": {},
     "output_type": "execute_result"
    }
   ],
   "source": [
    "df"
   ]
  },
  {
   "cell_type": "code",
   "execution_count": 13,
   "metadata": {},
   "outputs": [
    {
     "name": "stdout",
     "output_type": "stream",
     "text": [
      "Category\n",
      "Blockchain                    580\n",
      "Data Science                  440\n",
      "Database                      429\n",
      "DevOps Engineer               715\n",
      "DotNet Developer              364\n",
      "Information Technology        120\n",
      "Java Developer               1200\n",
      "Network Security Engineer     325\n",
      "Python Developer             1200\n",
      "Testing                      1190\n",
      "Web Developer                1200\n",
      "Name: cleaned_Resume, dtype: int64\n"
     ]
    }
   ],
   "source": [
    "print(df.groupby('Category')['cleaned_Resume'].count())"
   ]
  },
  {
   "cell_type": "code",
   "execution_count": 23,
   "metadata": {},
   "outputs": [],
   "source": [
    "import plotly.graph_objects as go\n",
    "import plotly.express as px\n",
    "import matplotlib.pyplot as plt\n",
    "import seaborn as sns"
   ]
  },
  {
   "cell_type": "code",
   "execution_count": 24,
   "metadata": {},
   "outputs": [
    {
     "name": "stderr",
     "output_type": "stream",
     "text": [
      "C:\\Users\\Jeremy\\AppData\\Local\\Temp\\ipykernel_19148\\2955146718.py:3: FutureWarning: \n",
      "\n",
      "Passing `palette` without assigning `hue` is deprecated and will be removed in v0.14.0. Assign the `y` variable to `hue` and set `legend=False` for the same effect.\n",
      "\n",
      "  sns.countplot(y=\"Category\", data=df, palette='Reds')\n"
     ]
    },
    {
     "data": {
      "text/plain": [
       "<Axes: xlabel='count', ylabel='Category'>"
      ]
     },
     "execution_count": 24,
     "metadata": {},
     "output_type": "execute_result"
    },
    {
     "data": {
      "image/png": "[encoded data removed]",
      "text/plain": [
       "<Figure size 500x500 with 1 Axes>"
      ]
     },
     "metadata": {},
     "output_type": "display_data"
    }
   ],
   "source": [
    "plt.figure(figsize=(5,5))\n",
    "plt.xticks(rotation=90)\n",
    "sns.countplot(y=\"Category\", data=df, palette='Reds')"
   ]
  },
  {
   "cell_type": "code",
   "execution_count": 65,
   "metadata": {},
   "outputs": [
    {
     "name": "stderr",
     "output_type": "stream",
     "text": [
      "<>:4: SyntaxWarning: invalid escape sequence '\\S'\n",
      "<>:6: SyntaxWarning: invalid escape sequence '\\S'\n",
      "<>:7: SyntaxWarning: invalid escape sequence '\\S'\n",
      "<>:8: SyntaxWarning: invalid escape sequence '\\]'\n",
      "<>:10: SyntaxWarning: invalid escape sequence '\\s'\n",
      "<>:4: SyntaxWarning: invalid escape sequence '\\S'\n",
      "<>:6: SyntaxWarning: invalid escape sequence '\\S'\n",
      "<>:7: SyntaxWarning: invalid escape sequence '\\S'\n",
      "<>:8: SyntaxWarning: invalid escape sequence '\\]'\n",
      "<>:10: SyntaxWarning: invalid escape sequence '\\s'\n",
      "C:\\Users\\Jeremy\\AppData\\Local\\Temp\\ipykernel_19148\\2045684286.py:4: SyntaxWarning: invalid escape sequence '\\S'\n",
      "  resumeText = re.sub('http\\S+\\s*', ' ', resumeText)  # remove URLs\n",
      "C:\\Users\\Jeremy\\AppData\\Local\\Temp\\ipykernel_19148\\2045684286.py:6: SyntaxWarning: invalid escape sequence '\\S'\n",
      "  resumeText = re.sub('#\\S+', '', resumeText)  # remove hashtags\n",
      "C:\\Users\\Jeremy\\AppData\\Local\\Temp\\ipykernel_19148\\2045684286.py:7: SyntaxWarning: invalid escape sequence '\\S'\n",
      "  resumeText = re.sub('@\\S+', '  ', resumeText)  # remove mentions\n",
      "C:\\Users\\Jeremy\\AppData\\Local\\Temp\\ipykernel_19148\\2045684286.py:8: SyntaxWarning: invalid escape sequence '\\]'\n",
      "  resumeText = re.sub('[%s]' % re.escape(\"\"\"!\"#$%&'()*+,-./:;<=>?@[\\]^_`{|}~\"\"\"), ' ', resumeText)  # remove punctuations\n",
      "C:\\Users\\Jeremy\\AppData\\Local\\Temp\\ipykernel_19148\\2045684286.py:10: SyntaxWarning: invalid escape sequence '\\s'\n",
      "  resumeText = re.sub('\\s+', ' ', resumeText)  # remove extra whitespace\n"
     ]
    }
   ],
   "source": [
    "import re\n",
    "\n",
    "def cleanResume(resumeText):\n",
    "    resumeText = re.sub('http\\S+\\s*', ' ', resumeText)  # remove URLs\n",
    "    resumeText = re.sub('RT|cc', ' ', resumeText)  # remove RT and cc\n",
    "    resumeText = re.sub('#\\S+', '', resumeText)  # remove hashtags\n",
    "    resumeText = re.sub('@\\S+', '  ', resumeText)  # remove mentions\n",
    "    resumeText = re.sub('[%s]' % re.escape(\"\"\"!\"#$%&'()*+,-./:;<=>?@[\\]^_`{|}~\"\"\"), ' ', resumeText)  # remove punctuations\n",
    "    resumeText = re.sub(r'[^\\x00-\\x7f]',r' ', resumeText)\n",
    "    resumeText = re.sub('\\s+', ' ', resumeText)  # remove extra whitespace\n",
    "    return resumeText"
   ]
  },
  {
   "cell_type": "code",
   "execution_count": 26,
   "metadata": {},
   "outputs": [
    {
     "data": {
      "text/html": [
       "<div>\n",
       "<style scoped>\n",
       "    .dataframe tbody tr th:only-of-type {\n",
       "        vertical-align: middle;\n",
       "    }\n",
       "\n",
       "    .dataframe tbody tr th {\n",
       "        vertical-align: top;\n",
       "    }\n",
       "\n",
       "    .dataframe thead th {\n",
       "        text-align: right;\n",
       "    }\n",
       "</style>\n",
       "<table border=\"1\" class=\"dataframe\">\n",
       "  <thead>\n",
       "    <tr style=\"text-align: right;\">\n",
       "      <th></th>\n",
       "      <th>Category</th>\n",
       "      <th>Resume</th>\n",
       "      <th>cleaned_Resume</th>\n",
       "    </tr>\n",
       "  </thead>\n",
       "  <tbody>\n",
       "    <tr>\n",
       "      <th>0</th>\n",
       "      <td>Blockchain</td>\n",
       "      <td>SOFTWARE SKILLS: Languages: C, C++ &amp; java Oper...</td>\n",
       "      <td>SOFTWARE SKILLS Languages C C java Operating S...</td>\n",
       "    </tr>\n",
       "    <tr>\n",
       "      <th>1</th>\n",
       "      <td>Blockchain</td>\n",
       "      <td>Skills Strong CS fundamentals and problem solv...</td>\n",
       "      <td>Skills Strong CS fundamentals and problem solv...</td>\n",
       "    </tr>\n",
       "    <tr>\n",
       "      <th>2</th>\n",
       "      <td>Blockchain</td>\n",
       "      <td>Hobbies â¢ Playing Chess â¢ Solving Rubik's ...</td>\n",
       "      <td>Hobbies Playing Chess Solving Rubik s Cube Wat...</td>\n",
       "    </tr>\n",
       "    <tr>\n",
       "      <th>3</th>\n",
       "      <td>Blockchain</td>\n",
       "      <td>Skills Strong CS fundamentals and problem solv...</td>\n",
       "      <td>Skills Strong CS fundamentals and problem solv...</td>\n",
       "    </tr>\n",
       "    <tr>\n",
       "      <th>4</th>\n",
       "      <td>Blockchain</td>\n",
       "      <td>SKILLS Bitcoin, Ethereum Solidity Hyperledger,...</td>\n",
       "      <td>SKILLS Bitcoin Ethereum Solidity Hyperledger B...</td>\n",
       "    </tr>\n",
       "  </tbody>\n",
       "</table>\n",
       "</div>"
      ],
      "text/plain": [
       "     Category                                             Resume  \\\n",
       "0  Blockchain  SOFTWARE SKILLS: Languages: C, C++ & java Oper...   \n",
       "1  Blockchain  Skills Strong CS fundamentals and problem solv...   \n",
       "2  Blockchain  Hobbies â¢ Playing Chess â¢ Solving Rubik's ...   \n",
       "3  Blockchain  Skills Strong CS fundamentals and problem solv...   \n",
       "4  Blockchain  SKILLS Bitcoin, Ethereum Solidity Hyperledger,...   \n",
       "\n",
       "                                      cleaned_Resume  \n",
       "0  SOFTWARE SKILLS Languages C C java Operating S...  \n",
       "1  Skills Strong CS fundamentals and problem solv...  \n",
       "2  Hobbies Playing Chess Solving Rubik s Cube Wat...  \n",
       "3  Skills Strong CS fundamentals and problem solv...  \n",
       "4  SKILLS Bitcoin Ethereum Solidity Hyperledger B...  "
      ]
     },
     "execution_count": 26,
     "metadata": {},
     "output_type": "execute_result"
    }
   ],
   "source": [
    "resumeDataSet = df.copy()\n",
    "resumeDataSet.head()"
   ]
  },
  {
   "cell_type": "code",
   "execution_count": 27,
   "metadata": {},
   "outputs": [],
   "source": [
    "var_mod = ['Category']\n",
    "le = LabelEncoder()\n",
    "for i in var_mod:\n",
    "    resumeDataSet[i] = le.fit_transform(resumeDataSet[i])"
   ]
  },
  {
   "cell_type": "code",
   "execution_count": 28,
   "metadata": {},
   "outputs": [
    {
     "data": {
      "text/html": [
       "<div>\n",
       "<style scoped>\n",
       "    .dataframe tbody tr th:only-of-type {\n",
       "        vertical-align: middle;\n",
       "    }\n",
       "\n",
       "    .dataframe tbody tr th {\n",
       "        vertical-align: top;\n",
       "    }\n",
       "\n",
       "    .dataframe thead th {\n",
       "        text-align: right;\n",
       "    }\n",
       "</style>\n",
       "<table border=\"1\" class=\"dataframe\">\n",
       "  <thead>\n",
       "    <tr style=\"text-align: right;\">\n",
       "      <th></th>\n",
       "      <th>Category</th>\n",
       "      <th>Resume</th>\n",
       "      <th>cleaned_Resume</th>\n",
       "    </tr>\n",
       "  </thead>\n",
       "  <tbody>\n",
       "    <tr>\n",
       "      <th>0</th>\n",
       "      <td>0</td>\n",
       "      <td>SOFTWARE SKILLS: Languages: C, C++ &amp; java Oper...</td>\n",
       "      <td>SOFTWARE SKILLS Languages C C java Operating S...</td>\n",
       "    </tr>\n",
       "    <tr>\n",
       "      <th>1</th>\n",
       "      <td>0</td>\n",
       "      <td>Skills Strong CS fundamentals and problem solv...</td>\n",
       "      <td>Skills Strong CS fundamentals and problem solv...</td>\n",
       "    </tr>\n",
       "    <tr>\n",
       "      <th>2</th>\n",
       "      <td>0</td>\n",
       "      <td>Hobbies â¢ Playing Chess â¢ Solving Rubik's ...</td>\n",
       "      <td>Hobbies Playing Chess Solving Rubik s Cube Wat...</td>\n",
       "    </tr>\n",
       "    <tr>\n",
       "      <th>3</th>\n",
       "      <td>0</td>\n",
       "      <td>Skills Strong CS fundamentals and problem solv...</td>\n",
       "      <td>Skills Strong CS fundamentals and problem solv...</td>\n",
       "    </tr>\n",
       "    <tr>\n",
       "      <th>4</th>\n",
       "      <td>0</td>\n",
       "      <td>SKILLS Bitcoin, Ethereum Solidity Hyperledger,...</td>\n",
       "      <td>SKILLS Bitcoin Ethereum Solidity Hyperledger B...</td>\n",
       "    </tr>\n",
       "  </tbody>\n",
       "</table>\n",
       "</div>"
      ],
      "text/plain": [
       "   Category                                             Resume  \\\n",
       "0         0  SOFTWARE SKILLS: Languages: C, C++ & java Oper...   \n",
       "1         0  Skills Strong CS fundamentals and problem solv...   \n",
       "2         0  Hobbies â¢ Playing Chess â¢ Solving Rubik's ...   \n",
       "3         0  Skills Strong CS fundamentals and problem solv...   \n",
       "4         0  SKILLS Bitcoin, Ethereum Solidity Hyperledger,...   \n",
       "\n",
       "                                      cleaned_Resume  \n",
       "0  SOFTWARE SKILLS Languages C C java Operating S...  \n",
       "1  Skills Strong CS fundamentals and problem solv...  \n",
       "2  Hobbies Playing Chess Solving Rubik s Cube Wat...  \n",
       "3  Skills Strong CS fundamentals and problem solv...  \n",
       "4  SKILLS Bitcoin Ethereum Solidity Hyperledger B...  "
      ]
     },
     "execution_count": 28,
     "metadata": {},
     "output_type": "execute_result"
    }
   ],
   "source": [
    "resumeDataSet.head()"
   ]
  },
  {
   "cell_type": "code",
   "execution_count": 29,
   "metadata": {},
   "outputs": [],
   "source": [
    "from sklearn.model_selection import train_test_split\n",
    "from sklearn.feature_extraction.text import TfidfVectorizer"
   ]
  },
  {
   "cell_type": "code",
   "execution_count": 31,
   "metadata": {},
   "outputs": [
    {
     "name": "stdout",
     "output_type": "stream",
     "text": [
      "Feature completed .....\n",
      "(6210, 1500)\n",
      "(1553, 1500)\n"
     ]
    }
   ],
   "source": [
    "requiredText = resumeDataSet['cleaned_Resume'].values\n",
    "requiredTarget = resumeDataSet['Category'].values\n",
    "\n",
    "word_vectorizer = TfidfVectorizer(\n",
    "    sublinear_tf=True,\n",
    "    stop_words='english',\n",
    "    max_features=1500)\n",
    "word_vectorizer.fit(requiredText)\n",
    "WordFeatures = word_vectorizer.transform(requiredText)\n",
    "\n",
    "print (\"Feature completed .....\")\n",
    "\n",
    "X_train,X_test,y_train,y_test = train_test_split(WordFeatures,requiredTarget,random_state=0, test_size=0.2)\n",
    "print(X_train.shape)\n",
    "print(X_test.shape)"
   ]
  },
  {
   "cell_type": "code",
   "execution_count": 32,
   "metadata": {},
   "outputs": [],
   "source": [
    "from sklearn.neighbors import KNeighborsClassifier\n",
    "from sklearn import metrics"
   ]
  },
  {
   "cell_type": "code",
   "execution_count": 33,
   "metadata": {},
   "outputs": [
    {
     "name": "stdout",
     "output_type": "stream",
     "text": [
      "Accuracy of KNeighbors Classifier on training set: 0.93\n",
      "Accuracy of KNeighbors Classifier on test set: 0.91\n"
     ]
    }
   ],
   "source": [
    "clf = KNeighborsClassifier(n_neighbors=15)\n",
    "clf = clf.fit(X_train, y_train)\n",
    "yp = clf.predict(X_test)\n",
    "print('Accuracy of KNeighbors Classifier on training set: {:.2f}'.format(clf.score(X_train, y_train)))\n",
    "print('Accuracy of KNeighbors Classifier on test set: {:.2f}'.format(clf.score(X_test, y_test)))"
   ]
  },
  {
   "cell_type": "code",
   "execution_count": 36,
   "metadata": {},
   "outputs": [
    {
     "name": "stdout",
     "output_type": "stream",
     "text": [
      "Reporte de clasificación:\n",
      "              precision    recall  f1-score   support\n",
      "\n",
      "           0       1.00      1.00      1.00       130\n",
      "           1       1.00      1.00      1.00        78\n",
      "           2       0.96      1.00      0.98        74\n",
      "           3       0.99      1.00      1.00       146\n",
      "           4       1.00      1.00      1.00        71\n",
      "           5       0.94      0.88      0.91        34\n",
      "           6       0.80      0.81      0.80       241\n",
      "           7       0.98      1.00      0.99        63\n",
      "           8       0.83      0.76      0.79       249\n",
      "           9       1.00      1.00      1.00       230\n",
      "          10       0.80      0.86      0.83       237\n",
      "\n",
      "    accuracy                           0.91      1553\n",
      "   macro avg       0.94      0.94      0.94      1553\n",
      "weighted avg       0.91      0.91      0.91      1553\n",
      "\n"
     ]
    }
   ],
   "source": [
    "from sklearn.metrics import classification_report\n",
    "\n",
    "# Genera el reporte de clasificación\n",
    "report = classification_report(y_test, yp)\n",
    "\n",
    "print(\"Reporte de clasificación:\")\n",
    "print(report)"
   ]
  },
  {
   "cell_type": "code",
   "execution_count": 37,
   "metadata": {},
   "outputs": [
    {
     "name": "stdout",
     "output_type": "stream",
     "text": [
      "Matriz de Confusión:\n",
      "[[130   0   0   0   0   0   0   0   0   0   0]\n",
      " [  0  78   0   0   0   0   0   0   0   0   0]\n",
      " [  0   0  74   0   0   0   0   0   0   0   0]\n",
      " [  0   0   0 146   0   0   0   0   0   0   0]\n",
      " [  0   0   0   0  71   0   0   0   0   0   0]\n",
      " [  0   0   0   0   0  30   0   0   0   0   4]\n",
      " [  0   0   0   0   0   1 195   1  22   0  22]\n",
      " [  0   0   0   0   0   0   0  63   0   0   0]\n",
      " [  0   0   2   1   0   0  34   0 188   0  24]\n",
      " [  0   0   0   0   0   0   0   0   0 230   0]\n",
      " [  0   0   1   0   0   1  15   0  17   0 203]]\n"
     ]
    }
   ],
   "source": [
    "from sklearn.metrics import confusion_matrix\n",
    "\n",
    "# Calcula la matriz de confusión\n",
    "conf_matrix = confusion_matrix(y_test, yp)\n",
    "\n",
    "print(\"Matriz de Confusión:\")\n",
    "print(conf_matrix)\n"
   ]
  },
  {
   "cell_type": "code",
   "execution_count": 34,
   "metadata": {},
   "outputs": [],
   "source": [
    "class JobPredictor:\n",
    "    def __init__(self) -> None:\n",
    "        self.le = le\n",
    "        self.word_vectorizer = word_vectorizer\n",
    "        self.clf = clf\n",
    "\n",
    "    def predict(self, resume):\n",
    "        feature = self.word_vectorizer.transform([resume])\n",
    "        predicted = self.clf.predict(feature)\n",
    "        resume_position = self.le.inverse_transform(predicted)[0]\n",
    "        return resume_position\n",
    "\n",
    "    def predict_proba(self, resume):\n",
    "        feature = self.word_vectorizer.transform([resume])\n",
    "        predicted_prob = self.clf.predict_proba(feature)\n",
    "        return predicted_prob[0]"
   ]
  },
  {
   "cell_type": "markdown",
   "metadata": {},
   "source": [
    "# **Validaciones reales**"
   ]
  },
  {
   "cell_type": "code",
   "execution_count": 42,
   "metadata": {},
   "outputs": [],
   "source": [
    "job_description = \"\"\"\n",
    "Skills Required:\n",
    "\n",
    "Proficiency in statistical analysis, machine learning, and data mining techniques\n",
    "Strong programming skills in Python or R for data analysis and model development\n",
    "Experience with data manipulation and transformation using SQL and/or NoSQL databases\n",
    "Knowledge of data visualization libraries such as Matplotlib, Seaborn, or Plotly\n",
    "Familiarity with distributed computing frameworks like Apache Spark for big data processing\n",
    "Understanding of cloud platforms such as AWS, Azure, or Google Cloud for data storage and computing\n",
    "Ability to communicate complex findings and insights to both technical and non-technical stakeholders\n",
    "Experience with version control systems like Git for collaborative development\n",
    "Strong problem-solving skills and attention to detail\n",
    "Background in mathematics, statistics, computer science, or a related field\n",
    "Roles & Responsibilities:\n",
    "\n",
    "Serve as a subject matter expert in statistical analysis and machine learning techniques\n",
    "Collaborate with cross-functional teams including data engineers, business analysts, and domain experts to identify and solve complex business problems\n",
    "Design, develop, and deploy machine learning models to extract actionable insights from large datasets\n",
    "Conduct exploratory data analysis to uncover patterns, trends, and correlations in the data\n",
    "Evaluate model performance and iterate on algorithms to improve accuracy and efficiency\n",
    "Create data visualizations and interactive dashboards to communicate findings and drive decision-making\n",
    "Stay current with emerging technologies and industry trends in data science and machine learning\n",
    "Mentor and provide guidance to junior data scientists and analysts\n",
    "Participate in code reviews, team meetings, and knowledge-sharing sessions\n",
    "Adapt to changing priorities and manage multiple projects simultaneously\n",
    "\"\"\""
   ]
  },
  {
   "cell_type": "code",
   "execution_count": 43,
   "metadata": {},
   "outputs": [
    {
     "data": {
      "text/plain": [
       "'JD uploaded! Position: Data Science'"
      ]
     },
     "execution_count": 43,
     "metadata": {},
     "output_type": "execute_result"
    }
   ],
   "source": [
    "resume_position = JobPredictor().predict(job_description)\n",
    "f'JD uploaded! Position: {resume_position}'"
   ]
  },
  {
   "cell_type": "code",
   "execution_count": 72,
   "metadata": {},
   "outputs": [],
   "source": [
    "job_description = \"\"\"\n",
    "Skills Required:\n",
    "\n",
    "Proficient in C# and .NET framework for application development\n",
    "Strong understanding of object-oriented programming principles\n",
    "Experience with ASP.NET MVC or ASP.NET Core for web development\n",
    "Familiarity with front-end technologies such as HTML, CSS, and JavaScript\n",
    "Knowledge of relational databases like SQL Server or MySQL\n",
    "Experience with version control systems such as Git\n",
    "Understanding of software development best practices and design patterns\n",
    "Ability to write clean, maintainable, and efficient code\n",
    "Strong problem-solving and debugging skills\n",
    "Excellent communication skills and ability to work in a team environment\n",
    "Roles & Responsibilities:\n",
    "\n",
    "Develop and maintain .NET applications using C# and related technologies\n",
    "Collaborate with cross-functional teams to gather requirements and define project scope\n",
    "Design and implement scalable and secure web applications\n",
    "Write unit tests and conduct code reviews to ensure code quality\n",
    "Troubleshoot and debug issues in existing applications\n",
    "Keep up-to-date with the latest .NET technologies and industry trends\n",
    "Provide technical guidance and mentorship to junior developers\n",
    "Participate in Agile development processes and meetings\n",
    "Communicate effectively with stakeholders to understand business requirements\n",
    "Adapt to changing project requirements and deadlines\n",
    "\"\"\""
   ]
  },
  {
   "cell_type": "code",
   "execution_count": 74,
   "metadata": {},
   "outputs": [
    {
     "data": {
      "text/plain": [
       "'JD uploaded! Position: Web Developer'"
      ]
     },
     "execution_count": 74,
     "metadata": {},
     "output_type": "execute_result"
    }
   ],
   "source": [
    "job_description=cleanResume(job_description)\n",
    "resume_position = JobPredictor().predict(job_description)\n",
    "f'JD uploaded! Position: {resume_position}'"
   ]
  },
  {
   "cell_type": "code",
   "execution_count": 61,
   "metadata": {},
   "outputs": [],
   "source": [
    "job_description = \"\"\"\n",
    "Skills Required:\n",
    "\n",
    "Proficiency in HTML5, CSS3, and JavaScript for web development\n",
    "Experience with responsive design techniques and frameworks like Bootstrap or Foundation\n",
    "Strong understanding of user experience (UX) and user interface (UI) design principles\n",
    "Knowledge of Adobe Creative Suite (Photoshop, Illustrator, XD, etc.) or other design tools\n",
    "Familiarity with version control systems such as Git\n",
    "Understanding of web accessibility standards and best practices\n",
    "Ability to create visually appealing and intuitive website layouts\n",
    "Excellent attention to detail and ability to work to tight deadlines\n",
    "Strong communication skills and ability to collaborate with cross-functional teams\n",
    "Understanding of SEO principles and techniques for optimizing website performance\n",
    "Roles & Responsibilities:\n",
    "\n",
    "Design visually stunning and user-friendly website layouts and interfaces\n",
    "Collaborate with stakeholders to understand project requirements and objectives\n",
    "Create wireframes, mockups, and prototypes to demonstrate design concepts\n",
    "Implement designs using HTML, CSS, and JavaScript while ensuring cross-browser compatibility\n",
    "Optimize website performance for speed and responsiveness\n",
    "Conduct usability testing and gather feedback to iterate on designs\n",
    "Stay updated on the latest design trends, tools, and technologies\n",
    "Work closely with developers to ensure designs are implemented accurately\n",
    "Communicate effectively with clients and project teams throughout the design process\n",
    "Provide guidance and mentorship to junior designers or developers when needed\n",
    "Contribute to design discussions and brainstorming sessions to generate new ideas\n",
    "\"\"\""
   ]
  },
  {
   "cell_type": "code",
   "execution_count": 62,
   "metadata": {},
   "outputs": [
    {
     "data": {
      "text/plain": [
       "'JD uploaded! Position: Web Developer'"
      ]
     },
     "execution_count": 62,
     "metadata": {},
     "output_type": "execute_result"
    }
   ],
   "source": [
    "resume_position = JobPredictor().predict(job_description)\n",
    "f'JD uploaded! Position: {resume_position}'"
   ]
  },
  {
   "cell_type": "code",
   "execution_count": 66,
   "metadata": {},
   "outputs": [],
   "source": [
    "job_description = \"\"\"\n",
    "Name: Maria Lopez\n",
    "\n",
    "Profile:\n",
    "Experienced Java Developer with a proven track record of designing, implementing, and maintaining Java-based applications. Possessing a solid understanding of object-oriented programming principles, design patterns, and best practices in software development. Skilled in utilizing Java frameworks such as Spring and Hibernate to build robust and scalable applications. Proficient in database management systems including MySQL and Oracle. Strong problem-solving abilities with a keen attention to detail. Excellent communication skills and ability to work collaboratively in a team environment.\n",
    "\n",
    "Experience:\n",
    "\n",
    "Senior Java Developer\n",
    "ABC Software Solutions\n",
    "January 2019 - Present\n",
    "Responsibilities:\n",
    "\n",
    "Lead the development team in designing and implementing Java-based solutions for clients.\n",
    "Collaborate with cross-functional teams to gather requirements and define project scopes.\n",
    "Develop and maintain RESTful APIs using Spring Boot framework.\n",
    "Optimize application performance and ensure scalability.\n",
    "Conduct code reviews and mentor junior developers.\n",
    "Java Developer\n",
    "XYZ Tech Inc.\n",
    "June 2016 - December 2018\n",
    "Responsibilities:\n",
    "\n",
    "Developed and maintained enterprise-level Java applications for internal and external use.\n",
    "Participated in all phases of the software development lifecycle, from requirements gathering to deployment.\n",
    "Integrated third-party APIs and services into existing systems.\n",
    "Troubleshooted and resolved technical issues in a timely manner.\n",
    "Assisted in the training of new team members on Java development practices.\n",
    "Education:\n",
    "Bachelor of Science in Computer Science\n",
    "University of Technology\n",
    "Graduated: May 2016\n",
    "\n",
    "Skills:\n",
    "\n",
    "Proficient in Java programming language\n",
    "Experience with Spring framework (Spring Boot, Spring MVC, Spring Security)\n",
    "Familiarity with Hibernate ORM framework\n",
    "Strong knowledge of database management systems (MySQL, Oracle)\n",
    "Understanding of software development methodologies (Agile, Scrum)\n",
    "Excellent problem-solving and analytical skills\n",
    "Effective communication and teamwork abilities\n",
    "\"\"\""
   ]
  },
  {
   "cell_type": "code",
   "execution_count": 69,
   "metadata": {},
   "outputs": [
    {
     "data": {
      "text/plain": [
       "'JD uploaded! Position: Python Developer'"
      ]
     },
     "execution_count": 69,
     "metadata": {},
     "output_type": "execute_result"
    }
   ],
   "source": [
    "job_description=cleanResume(job_description)\n",
    "resume_position = JobPredictor().predict(job_description)\n",
    "f'JD uploaded! Position: {resume_position}'"
   ]
  },
  {
   "cell_type": "code",
   "execution_count": 70,
   "metadata": {},
   "outputs": [],
   "source": [
    "job_description = \"\"\"\n",
    "Profile of a Python Developer\n",
    "A Python developer is a software engineer who specializes in using the Python programming language to create and maintain applications. Python's versatility makes it a popular choice for web development, data analysis, machine learning, automation, and more.\n",
    "\n",
    "Skills and Knowledge:\n",
    "\n",
    "Technical Skills:\n",
    "Strong proficiency in Python programming, including object-oriented programming (OOP) concepts.\n",
    "Experience with popular Python frameworks (e.g., Django for web development, NumPy and pandas for data analysis, TensorFlow or PyTorch for machine learning).\n",
    "Working knowledge of web development concepts (HTML, CSS, JavaScript) for web applications.\n",
    "Understanding of version control systems (e.g., Git).\n",
    "Familiarity with database technologies (e.g., SQL, relational databases).\n",
    "Soft Skills:\n",
    "Excellent problem-solving and analytical skills.\n",
    "Ability to write clean, efficient, and well-documented code.\n",
    "Strong communication and collaboration skills to work effectively with other developers and stakeholders.\n",
    "Adaptability and willingness to learn new technologies and frameworks.\n",
    "Responsibilities:\n",
    "\n",
    "Develop, test, and debug Python code for various applications.\n",
    "Design and implement software architecture using Python best practices.\n",
    "Collaborate with other developers and designers to define application functionalities.\n",
    "Write unit tests and integrate with automated testing frameworks.\n",
    "Troubleshoot and resolve errors in existing Python codebases.\n",
    "Stay updated on the latest Python libraries, frameworks, and security best practices.\n",
    "Tools:\n",
    "\n",
    "Python developers utilize various tools throughout the development process, some of the most common being:\n",
    "\n",
    "Python IDEs and Code Editors: PyCharm, Visual Studio Code, Sublime Text.\n",
    "Version Control Systems: Git, GitHub.\n",
    "Web Development Tools: Web browsers (Chrome DevTools, Firefox Developer Tools), HTML/CSS preprocessors (e.g., Sass).\n",
    "Data Analysis and Machine Learning Libraries: NumPy, pandas, TensorFlow, PyTorch.\n",
    "Testing Frameworks: unittest, pytest.\n",
    "Education and Certifications:\n",
    "\n",
    "While there's no single educational path for becoming a Python developer, a bachelor's degree in computer science, software engineering, or a related field can be beneficial. However, strong programming skills and a portfolio showcasing your work experience can hold significant weight.\n",
    "\n",
    "Several Python certifications exist, but practical experience and a strong portfolio are often valued more by employers.\n",
    "\"\"\""
   ]
  },
  {
   "cell_type": "code",
   "execution_count": 71,
   "metadata": {},
   "outputs": [
    {
     "data": {
      "text/plain": [
       "'JD uploaded! Position: Data Science'"
      ]
     },
     "execution_count": 71,
     "metadata": {},
     "output_type": "execute_result"
    }
   ],
   "source": [
    "job_description=cleanResume(job_description)\n",
    "resume_position = JobPredictor().predict(job_description)\n",
    "f'JD uploaded! Position: {resume_position}'"
   ]
  }
 ],
 "metadata": {
  "kernelspec": {
   "display_name": ".venv",
   "language": "python",
   "name": "python3"
  },
  "language_info": {
   "codemirror_mode": {
    "name": "ipython",
    "version": 3
   },
   "file_extension": ".py",
   "mimetype": "text/x-python",
   "name": "python",
   "nbconvert_exporter": "python",
   "pygments_lexer": "ipython3",
   "version": "3.12.0"
  }
 },
 "nbformat": 4,
 "nbformat_minor": 2
}
