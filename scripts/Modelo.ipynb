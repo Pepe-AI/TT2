{
 "cells": [
  {
   "cell_type": "code",
<<<<<<< HEAD
   "execution_count": 754,
=======
   "execution_count": 3,
>>>>>>> 546951769061e07632d298d997ad418ce0df54ce
   "metadata": {},
   "outputs": [
    {
     "name": "stderr",
     "output_type": "stream",
     "text": [
      "[nltk_data] Downloading package wordnet to\n",
      "[nltk_data]     C:\\Users\\Jeremy\\AppData\\Roaming\\nltk_data...\n",
      "[nltk_data]   Package wordnet is already up-to-date!\n",
      "[nltk_data] Downloading package punkt to\n",
      "[nltk_data]     C:\\Users\\Jeremy\\AppData\\Roaming\\nltk_data...\n",
      "[nltk_data]   Package punkt is already up-to-date!\n"
     ]
    },
    {
     "data": {
      "text/plain": [
       "True"
      ]
     },
     "execution_count": 754,
     "metadata": {},
     "output_type": "execute_result"
    }
   ],
   "source": [
    "import numpy as np\n",
    "import pandas as pd\n",
    "from imblearn.over_sampling import SMOTE\n",
    "from sklearn.preprocessing import LabelEncoder\n",
    "from sklearn.svm import SVC\n",
    "from sklearn.model_selection import cross_val_score\n",
    "from sklearn.metrics import classification_report\n",
    "\n",
    "from sklearn.ensemble import RandomForestClassifier\n",
    "from sklearn.pipeline import make_pipeline\n",
    "import plotly.graph_objects as go\n",
    "import plotly.express as px\n",
    "import matplotlib.pyplot as plt\n",
    "import seaborn as sns\n",
    "import re\n",
    "from nltk.stem import WordNetLemmatizer\n",
    "from sklearn.model_selection import cross_val_score\n",
    "from sklearn.ensemble import RandomForestClassifier\n",
    "from sklearn.model_selection import train_test_split\n",
    "from sklearn.feature_extraction.text import TfidfVectorizer\n",
    "from sklearn.preprocessing import LabelEncoder\n",
    "from scipy.sparse import hstack\n",
    "import nltk\n",
    "from nltk.corpus import stopwords\n",
    "# Descargar recursos necesarios para NLTK (solo necesitas hacerlo una vez)\n",
    "nltk.download('wordnet')\n",
    "nltk.download('punkt')"
   ]
  },
  {
   "cell_type": "code",
<<<<<<< HEAD
   "execution_count": 755,
=======
   "execution_count": 4,
>>>>>>> 546951769061e07632d298d997ad418ce0df54ce
   "metadata": {},
   "outputs": [],
   "source": [
    "#Cargar dataset\n",
    "df = pd.read_csv('Datase_ML2.csv', encoding=\"utf-8\")"
   ]
  },
  {
   "cell_type": "code",
<<<<<<< HEAD
   "execution_count": 756,
=======
   "execution_count": 8,
>>>>>>> 546951769061e07632d298d997ad418ce0df54ce
   "metadata": {},
   "outputs": [
    {
     "data": {
      "text/plain": [
       "array(['Blockchain', 'Data Science', 'Database', 'DevOps Engineer',\n",
       "       'DotNet Developer', 'Network Security Engineer', 'Testing',\n",
       "       'Web Designing'], dtype=object)"
      ]
     },
<<<<<<< HEAD
     "execution_count": 756,
=======
     "execution_count": 8,
>>>>>>> 546951769061e07632d298d997ad418ce0df54ce
     "metadata": {},
     "output_type": "execute_result"
    }
   ],
   "source": [
    "df['Category'].unique()"
   ]
  },
  {
   "cell_type": "code",
<<<<<<< HEAD
   "execution_count": 757,
=======
   "execution_count": 6,
>>>>>>> 546951769061e07632d298d997ad418ce0df54ce
   "metadata": {},
   "outputs": [],
   "source": [
    "#eliminar valores\n",
    "valores_a_eliminar = [\"Java Developer\",\"Python Developer\"]\n",
    "df = df[~df['Category'].isin(valores_a_eliminar)]"
   ]
  },
  {
   "cell_type": "code",
<<<<<<< HEAD
   "execution_count": 758,
=======
   "execution_count": 9,
>>>>>>> 546951769061e07632d298d997ad418ce0df54ce
   "metadata": {},
   "outputs": [
    {
     "name": "stderr",
     "output_type": "stream",
     "text": [
      "[nltk_data] Downloading package stopwords to\n",
      "[nltk_data]     C:\\Users\\pepeh\\AppData\\Roaming\\nltk_data...\n",
      "[nltk_data]   Package stopwords is already up-to-date!\n"
     ]
    }
   ],
   "source": [
    "# Descarga de las palabras de parada (stop words) si no las tienes ya descargadas\n",
    "nltk.download('stopwords')\n",
    "\n",
    "# Obtén la lista de palabras de parada en inglés\n",
    "stop_words = set(stopwords.words('english'))"
   ]
  },
  {
   "cell_type": "code",
<<<<<<< HEAD
   "execution_count": 759,
=======
   "execution_count": 10,
>>>>>>> 546951769061e07632d298d997ad418ce0df54ce
   "metadata": {},
   "outputs": [],
   "source": [
    "df['Common Skills'] = df['Common Skills'].apply(lambda x: ' '.join([word for word in x.split() if word.lower() not in stop_words]))\n",
    "df['cleaned_Resume'] = df['cleaned_Resume'].apply(lambda x: ' '.join([word for word in x.split() if word.lower() not in stop_words]))"
   ]
  },
  {
   "cell_type": "code",
<<<<<<< HEAD
   "execution_count": 760,
=======
   "execution_count": 11,
>>>>>>> 546951769061e07632d298d997ad418ce0df54ce
   "metadata": {},
   "outputs": [
    {
     "name": "stdout",
     "output_type": "stream",
     "text": [
      "<class 'pandas.core.frame.DataFrame'>\n",
      "Index: 4538 entries, 0 to 7135\n",
      "Data columns (total 5 columns):\n",
      " #   Column          Non-Null Count  Dtype  \n",
      "---  ------          --------------  -----  \n",
      " 0   Category        4538 non-null   object \n",
      " 1   Resume          4538 non-null   object \n",
      " 2   length          336 non-null    float64\n",
      " 3   cleaned_Resume  4538 non-null   object \n",
      " 4   Common Skills   4538 non-null   object \n",
      "dtypes: float64(1), object(4)\n",
      "memory usage: 212.7+ KB\n"
     ]
    }
   ],
   "source": [
    "df.info()\n"
   ]
  },
  {
   "cell_type": "code",
<<<<<<< HEAD
   "execution_count": 761,
=======
   "execution_count": 12,
>>>>>>> 546951769061e07632d298d997ad418ce0df54ce
   "metadata": {},
   "outputs": [
    {
     "name": "stderr",
     "output_type": "stream",
     "text": [
      "C:\\Users\\pepeh\\AppData\\Local\\Temp\\ipykernel_25240\\3818097505.py:5: DeprecationWarning: DataFrameGroupBy.apply operated on the grouping columns. This behavior is deprecated, and in a future version of pandas the grouping columns will be excluded from the operation. Either pass `include_groups=False` to exclude the groupings or explicitly select the grouping columns after groupby to silence this warning.\n",
      "  df = df.groupby('Category').apply(sample_n).reset_index(drop=True)\n"
     ]
    }
   ],
   "source": [
    "#reducir las etiquetas a 1200\n",
    "def sample_n(df, n=500):\n",
    "    return df.sample(min(len(df), n))\n",
    "\n",
    "df = df.groupby('Category').apply(sample_n).reset_index(drop=True)"
   ]
  },
  {
   "cell_type": "code",
<<<<<<< HEAD
   "execution_count": 762,
=======
   "execution_count": 13,
>>>>>>> 546951769061e07632d298d997ad418ce0df54ce
   "metadata": {},
   "outputs": [
    {
     "name": "stderr",
     "output_type": "stream",
     "text": [
      "C:\\Users\\pepeh\\AppData\\Local\\Temp\\ipykernel_25240\\2955146718.py:3: FutureWarning: \n",
      "\n",
      "Passing `palette` without assigning `hue` is deprecated and will be removed in v0.14.0. Assign the `y` variable to `hue` and set `legend=False` for the same effect.\n",
      "\n",
      "  sns.countplot(y=\"Category\", data=df, palette='Reds')\n"
     ]
    },
    {
     "data": {
      "text/plain": [
       "<Axes: xlabel='count', ylabel='Category'>"
      ]
     },
<<<<<<< HEAD
     "execution_count": 762,
=======
     "execution_count": 13,
>>>>>>> 546951769061e07632d298d997ad418ce0df54ce
     "metadata": {},
     "output_type": "execute_result"
    },
    {
     "data": {
      "image/png": "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",
      "text/plain": [
       "<Figure size 500x500 with 1 Axes>"
      ]
     },
     "metadata": {},
     "output_type": "display_data"
    }
   ],
   "source": [
    "plt.figure(figsize=(5,5))\n",
    "plt.xticks(rotation=90)\n",
    "sns.countplot(y=\"Category\", data=df, palette='Reds')"
   ]
  },
  {
<<<<<<< HEAD
   "cell_type": "code",
   "execution_count": 763,
   "metadata": {},
   "outputs": [],
   "source": [
    "# Inicializar el lematizador\n",
    "lemmatizer = WordNetLemmatizer()\n",
    "\n",
    "# Define una función para lematizar un texto\n",
    "def lemmatize_text(text):\n",
    "    # Tokeniza el texto en palabras\n",
    "    tokens = nltk.word_tokenize(text)\n",
    "    # Lematiza cada palabra en los tokens\n",
    "    lemmatized_tokens = [lemmatizer.lemmatize(word) for word in tokens]\n",
    "    # Une las palabras lematizadas en un texto nuevamente\n",
    "    lemmatized_text = ' '.join(lemmatized_tokens)\n",
    "    return lemmatized_text\n",
    "\n",
    "# Aplica la función de lematización a la columna 'texto_columna'\n",
    "df['cleaned_Resume'] = df['cleaned_Resume'].apply(lemmatize_text)\n",
    "df['Common Skills'] = df['Common Skills'].apply(lemmatize_text)"
   ]
  },
  {
   "cell_type": "code",
   "execution_count": 764,
   "metadata": {},
   "outputs": [
    {
     "data": {
      "text/html": [
       "<div>\n",
       "<style scoped>\n",
       "    .dataframe tbody tr th:only-of-type {\n",
       "        vertical-align: middle;\n",
       "    }\n",
       "\n",
       "    .dataframe tbody tr th {\n",
       "        vertical-align: top;\n",
       "    }\n",
       "\n",
       "    .dataframe thead th {\n",
       "        text-align: right;\n",
       "    }\n",
       "</style>\n",
       "<table border=\"1\" class=\"dataframe\">\n",
       "  <thead>\n",
       "    <tr style=\"text-align: right;\">\n",
       "      <th></th>\n",
       "      <th>Category</th>\n",
       "      <th>Resume</th>\n",
       "      <th>length</th>\n",
       "      <th>cleaned_Resume</th>\n",
       "      <th>Common Skills</th>\n",
       "    </tr>\n",
       "  </thead>\n",
       "  <tbody>\n",
       "    <tr>\n",
       "      <th>0</th>\n",
       "      <td>Blockchain</td>\n",
       "      <td>SOFTWARE SKILLS Languages C C java Operating S...</td>\n",
       "      <td>3120.0</td>\n",
       "      <td>software skill language c c java operating sys...</td>\n",
       "      <td>ethereum smart contract cryptography solidity ...</td>\n",
       "    </tr>\n",
       "    <tr>\n",
       "      <th>1</th>\n",
       "      <td>Blockchain</td>\n",
       "      <td>Hobbies â¢ Playing Chess â¢ Solving Rubik's ...</td>\n",
       "      <td>NaN</td>\n",
       "      <td>hobby playing chess solving rubik cube watchin...</td>\n",
       "      <td>ethereum smart contract cryptography solidity ...</td>\n",
       "    </tr>\n",
       "    <tr>\n",
       "      <th>2</th>\n",
       "      <td>Blockchain</td>\n",
       "      <td>SKILLS Bitcoin, Ethereum Solidity Hyperledger,...</td>\n",
       "      <td>NaN</td>\n",
       "      <td>skill bitcoin ethereum solidity hyperledger be...</td>\n",
       "      <td>ethereum smart contract cryptography solidity ...</td>\n",
       "    </tr>\n",
       "    <tr>\n",
       "      <th>3</th>\n",
       "      <td>Blockchain</td>\n",
       "      <td>SKILLS Bitcoin, Ethereum Solidity Hyperledger,...</td>\n",
       "      <td>NaN</td>\n",
       "      <td>skill bitcoin ethereum solidity hyperledger be...</td>\n",
       "      <td>ethereum smart contract cryptography solidity ...</td>\n",
       "    </tr>\n",
       "    <tr>\n",
       "      <th>4</th>\n",
       "      <td>Blockchain</td>\n",
       "      <td>Skills Strong CS fundamentals and problem solv...</td>\n",
       "      <td>NaN</td>\n",
       "      <td>skill strong c fundamental problem solving eth...</td>\n",
       "      <td>ethereum smart contract cryptography solidity ...</td>\n",
       "    </tr>\n",
       "  </tbody>\n",
       "</table>\n",
       "</div>"
      ],
      "text/plain": [
       "     Category                                             Resume  length  \\\n",
       "0  Blockchain  SOFTWARE SKILLS Languages C C java Operating S...  3120.0   \n",
       "1  Blockchain  Hobbies â¢ Playing Chess â¢ Solving Rubik's ...     NaN   \n",
       "2  Blockchain  SKILLS Bitcoin, Ethereum Solidity Hyperledger,...     NaN   \n",
       "3  Blockchain  SKILLS Bitcoin, Ethereum Solidity Hyperledger,...     NaN   \n",
       "4  Blockchain  Skills Strong CS fundamentals and problem solv...     NaN   \n",
       "\n",
       "                                      cleaned_Resume  \\\n",
       "0  software skill language c c java operating sys...   \n",
       "1  hobby playing chess solving rubik cube watchin...   \n",
       "2  skill bitcoin ethereum solidity hyperledger be...   \n",
       "3  skill bitcoin ethereum solidity hyperledger be...   \n",
       "4  skill strong c fundamental problem solving eth...   \n",
       "\n",
       "                                       Common Skills  \n",
       "0  ethereum smart contract cryptography solidity ...  \n",
       "1  ethereum smart contract cryptography solidity ...  \n",
       "2  ethereum smart contract cryptography solidity ...  \n",
       "3  ethereum smart contract cryptography solidity ...  \n",
       "4  ethereum smart contract cryptography solidity ...  "
      ]
     },
     "execution_count": 764,
     "metadata": {},
     "output_type": "execute_result"
    }
   ],
   "source": [
    "resumeDataSet = df.copy()\n",
    "resumeDataSet.head()"
   ]
  },
  {
   "cell_type": "code",
   "execution_count": 765,
   "metadata": {},
   "outputs": [],
   "source": [
    "# Label Encoding\n",
    "var_mod = ['Category']\n",
    "le = LabelEncoder()\n",
    "for i in var_mod:\n",
    "    resumeDataSet[i] = le.fit_transform(resumeDataSet[i])"
   ]
  },
  {
   "cell_type": "code",
   "execution_count": 766,
   "metadata": {},
   "outputs": [
    {
     "data": {
      "text/html": [
       "<div>\n",
       "<style scoped>\n",
       "    .dataframe tbody tr th:only-of-type {\n",
       "        vertical-align: middle;\n",
       "    }\n",
       "\n",
       "    .dataframe tbody tr th {\n",
       "        vertical-align: top;\n",
       "    }\n",
       "\n",
       "    .dataframe thead th {\n",
       "        text-align: right;\n",
       "    }\n",
       "</style>\n",
       "<table border=\"1\" class=\"dataframe\">\n",
       "  <thead>\n",
       "    <tr style=\"text-align: right;\">\n",
       "      <th></th>\n",
       "      <th>Category</th>\n",
       "      <th>Resume</th>\n",
       "      <th>length</th>\n",
       "      <th>cleaned_Resume</th>\n",
       "      <th>Common Skills</th>\n",
       "    </tr>\n",
       "  </thead>\n",
       "  <tbody>\n",
       "    <tr>\n",
       "      <th>0</th>\n",
       "      <td>0</td>\n",
       "      <td>SOFTWARE SKILLS Languages C C java Operating S...</td>\n",
       "      <td>3120.0</td>\n",
       "      <td>software skill language c c java operating sys...</td>\n",
       "      <td>ethereum smart contract cryptography solidity ...</td>\n",
       "    </tr>\n",
       "    <tr>\n",
       "      <th>1</th>\n",
       "      <td>0</td>\n",
       "      <td>Hobbies â¢ Playing Chess â¢ Solving Rubik's ...</td>\n",
       "      <td>NaN</td>\n",
       "      <td>hobby playing chess solving rubik cube watchin...</td>\n",
       "      <td>ethereum smart contract cryptography solidity ...</td>\n",
       "    </tr>\n",
       "    <tr>\n",
       "      <th>2</th>\n",
       "      <td>0</td>\n",
       "      <td>SKILLS Bitcoin, Ethereum Solidity Hyperledger,...</td>\n",
       "      <td>NaN</td>\n",
       "      <td>skill bitcoin ethereum solidity hyperledger be...</td>\n",
       "      <td>ethereum smart contract cryptography solidity ...</td>\n",
       "    </tr>\n",
       "    <tr>\n",
       "      <th>3</th>\n",
       "      <td>0</td>\n",
       "      <td>SKILLS Bitcoin, Ethereum Solidity Hyperledger,...</td>\n",
       "      <td>NaN</td>\n",
       "      <td>skill bitcoin ethereum solidity hyperledger be...</td>\n",
       "      <td>ethereum smart contract cryptography solidity ...</td>\n",
       "    </tr>\n",
       "    <tr>\n",
       "      <th>4</th>\n",
       "      <td>0</td>\n",
       "      <td>Skills Strong CS fundamentals and problem solv...</td>\n",
       "      <td>NaN</td>\n",
       "      <td>skill strong c fundamental problem solving eth...</td>\n",
       "      <td>ethereum smart contract cryptography solidity ...</td>\n",
       "    </tr>\n",
       "  </tbody>\n",
       "</table>\n",
       "</div>"
      ],
      "text/plain": [
       "   Category                                             Resume  length  \\\n",
       "0         0  SOFTWARE SKILLS Languages C C java Operating S...  3120.0   \n",
       "1         0  Hobbies â¢ Playing Chess â¢ Solving Rubik's ...     NaN   \n",
       "2         0  SKILLS Bitcoin, Ethereum Solidity Hyperledger,...     NaN   \n",
       "3         0  SKILLS Bitcoin, Ethereum Solidity Hyperledger,...     NaN   \n",
       "4         0  Skills Strong CS fundamentals and problem solv...     NaN   \n",
       "\n",
       "                                      cleaned_Resume  \\\n",
       "0  software skill language c c java operating sys...   \n",
       "1  hobby playing chess solving rubik cube watchin...   \n",
       "2  skill bitcoin ethereum solidity hyperledger be...   \n",
       "3  skill bitcoin ethereum solidity hyperledger be...   \n",
       "4  skill strong c fundamental problem solving eth...   \n",
       "\n",
       "                                       Common Skills  \n",
       "0  ethereum smart contract cryptography solidity ...  \n",
       "1  ethereum smart contract cryptography solidity ...  \n",
       "2  ethereum smart contract cryptography solidity ...  \n",
       "3  ethereum smart contract cryptography solidity ...  \n",
       "4  ethereum smart contract cryptography solidity ...  "
      ]
     },
     "execution_count": 766,
     "metadata": {},
     "output_type": "execute_result"
    }
   ],
   "source": [
    "resumeDataSet.head()"
   ]
  },
  {
   "cell_type": "code",
   "execution_count": 767,
   "metadata": {},
   "outputs": [],
   "source": [
    "from sklearn.model_selection import train_test_split\n",
    "from sklearn.feature_extraction.text import TfidfVectorizer"
   ]
  },
  {
   "cell_type": "code",
   "execution_count": 768,
   "metadata": {},
   "outputs": [
    {
     "name": "stdout",
     "output_type": "stream",
     "text": [
      "Feature completed .....\n",
      "(3642, 500)\n",
      "(911, 500)\n"
     ]
    }
   ],
   "source": [
    "requiredText = resumeDataSet['cleaned_Resume'].values\n",
    "requiredSkills = resumeDataSet['Common Skills'].fillna('').astype(str).values\n",
    "requiredTarget = resumeDataSet['Category'].values\n",
    "\n",
    "# Fusionar características de texto y habilidades comunes\n",
    "combined_features = []\n",
    "for text, skills in zip(requiredText, requiredSkills):\n",
    "    combined_features.append(text + \" \" + skills)\n",
    "\n",
    "# TF-IDF Vectorization\n",
    "word_vectorizer = TfidfVectorizer(\n",
    "    sublinear_tf=True,\n",
    "    stop_words='english',\n",
    "    max_features=500)\n",
    "WordFeatures = word_vectorizer.fit_transform(combined_features)\n",
    "\n",
    "print(\"Feature completed .....\")    \n",
    "\n",
    "# Train-Test Split\n",
    "X_train, X_test, y_train, y_test = train_test_split(WordFeatures, requiredTarget, random_state=0, test_size=0.2)\n",
    "print(X_train.shape)\n",
    "print(X_test.shape)"
   ]
  },
  {
   "cell_type": "code",
   "execution_count": 769,
   "metadata": {},
   "outputs": [],
   "source": [
    "# Configuramos el modelo Random Forest con balanceo de clases\n",
    "rf_model = RandomForestClassifier(class_weight='balanced', n_estimators=500)"
   ]
  },
  {
   "cell_type": "code",
   "execution_count": 770,
   "metadata": {},
   "outputs": [],
   "source": [
    "# Ahora aplicamos validación cruzada\n",
    "# Define el número de folds para la validación cruzada\n",
    "n_folds = 5\n",
    "# Realizamos validación cruzada\n",
    "scores = cross_val_score(rf_model, WordFeatures, requiredTarget, cv=n_folds, scoring='accuracy')\n",
    "# Entrenamos el modelo\n",
    "rf_model.fit(X_train, y_train)\n",
    "# Realizamos predicciones\n",
    "y_pred = rf_model.predict(X_test)"
   ]
  },
  {
   "cell_type": "code",
   "execution_count": 771,
   "metadata": {},
   "outputs": [
    {
     "name": "stdout",
     "output_type": "stream",
     "text": [
      "              precision    recall  f1-score   support\n",
      "\n",
      "           0       1.00      1.00      1.00        96\n",
      "           1       1.00      1.00      1.00       104\n",
      "           2       1.00      1.00      1.00        82\n",
      "           3       1.00      1.00      1.00        96\n",
      "           4       1.00      1.00      1.00        79\n",
      "           5       1.00      1.00      1.00        99\n",
      "           6       1.00      1.00      1.00        62\n",
      "           7       1.00      1.00      1.00       101\n",
      "           8       1.00      1.00      1.00        94\n",
      "           9       1.00      1.00      1.00        98\n",
      "\n",
      "    accuracy                           1.00       911\n",
      "   macro avg       1.00      1.00      1.00       911\n",
      "weighted avg       1.00      1.00      1.00       911\n",
      "\n"
     ]
    }
   ],
   "source": [
    "# Evaluamos el rendimiento del modelo\n",
    "print(classification_report(y_test, y_pred))"
   ]
  },
  {
   "cell_type": "code",
   "execution_count": 772,
   "metadata": {},
   "outputs": [],
   "source": [
    "# Para una evaluación más detallada, puedes entrenar el modelo en el conjunto de entrenamiento completo y evaluarlo en el conjunto de prueba\n",
    "# Esto es opcional pero puede proporcionar más información sobre el rendimiento del modelo\n",
    "rf_model.fit(X_train, y_train)\n",
    "y_pred = rf_model.predict(X_test)"
   ]
  },
  {
   "cell_type": "code",
   "execution_count": 773,
   "metadata": {},
   "outputs": [
    {
     "name": "stdout",
     "output_type": "stream",
     "text": [
      "              precision    recall  f1-score   support\n",
      "\n",
      "           0       1.00      1.00      1.00        96\n",
      "           1       1.00      1.00      1.00       104\n",
      "           2       1.00      1.00      1.00        82\n",
      "           3       1.00      1.00      1.00        96\n",
      "           4       1.00      1.00      1.00        79\n",
      "           5       1.00      1.00      1.00        99\n",
      "           6       1.00      1.00      1.00        62\n",
      "           7       1.00      1.00      1.00       101\n",
      "           8       1.00      1.00      1.00        94\n",
      "           9       1.00      1.00      1.00        98\n",
      "\n",
      "    accuracy                           1.00       911\n",
      "   macro avg       1.00      1.00      1.00       911\n",
      "weighted avg       1.00      1.00      1.00       911\n",
      "\n"
     ]
    }
   ],
   "source": [
    "# Imprimir el reporte de clasificación\n",
    "print(classification_report(y_test, y_pred))"
   ]
  },
  {
   "cell_type": "code",
   "execution_count": 774,
   "metadata": {},
   "outputs": [
    {
     "name": "stderr",
     "output_type": "stream",
     "text": [
      "<>:19: SyntaxWarning: invalid escape sequence '\\S'\n",
      "<>:21: SyntaxWarning: invalid escape sequence '\\S'\n",
      "<>:22: SyntaxWarning: invalid escape sequence '\\S'\n",
      "<>:23: SyntaxWarning: invalid escape sequence '\\]'\n",
      "<>:25: SyntaxWarning: invalid escape sequence '\\s'\n",
      "<>:19: SyntaxWarning: invalid escape sequence '\\S'\n",
      "<>:21: SyntaxWarning: invalid escape sequence '\\S'\n",
      "<>:22: SyntaxWarning: invalid escape sequence '\\S'\n",
      "<>:23: SyntaxWarning: invalid escape sequence '\\]'\n",
      "<>:25: SyntaxWarning: invalid escape sequence '\\s'\n",
      "C:\\Users\\Jeremy\\AppData\\Local\\Temp\\ipykernel_1836\\583337680.py:19: SyntaxWarning: invalid escape sequence '\\S'\n",
      "  resumeText = re.sub('http\\S+\\s*', ' ', resumeText)  # remove URLs\n",
      "C:\\Users\\Jeremy\\AppData\\Local\\Temp\\ipykernel_1836\\583337680.py:21: SyntaxWarning: invalid escape sequence '\\S'\n",
      "  resumeText = re.sub('#\\S+', '', resumeText)  # remove hashtags\n",
      "C:\\Users\\Jeremy\\AppData\\Local\\Temp\\ipykernel_1836\\583337680.py:22: SyntaxWarning: invalid escape sequence '\\S'\n",
      "  resumeText = re.sub('@\\S+', '  ', resumeText)  # remove mentions\n",
      "C:\\Users\\Jeremy\\AppData\\Local\\Temp\\ipykernel_1836\\583337680.py:23: SyntaxWarning: invalid escape sequence '\\]'\n",
      "  resumeText = re.sub('[%s]' % re.escape(\"\"\"!\"#$%&'()*+,-./:;<=>?@[\\]^_`{|}~\"\"\"), ' ', resumeText)  # remove punctuations\n",
      "C:\\Users\\Jeremy\\AppData\\Local\\Temp\\ipykernel_1836\\583337680.py:25: SyntaxWarning: invalid escape sequence '\\s'\n",
      "  resumeText = re.sub('\\s+', ' ', resumeText)  # remove extra whitespace\n"
     ]
    }
   ],
   "source": [
    "class JobPredictor:\n",
    "    def __init__(self) -> None:\n",
    "        self.le = le\n",
    "        self.word_vectorizer = word_vectorizer\n",
    "        self.clf = rf_model #checar\n",
    "\n",
    "    def predict(self, resume):\n",
    "        feature = self.word_vectorizer.transform([resume])\n",
    "        predicted = self.clf.predict(feature)\n",
    "        resume_position = self.le.inverse_transform(predicted)[0]\n",
    "        return resume_position\n",
    "\n",
    "    def predict_proba(self, resume):\n",
    "        feature = self.word_vectorizer.transform([resume])\n",
    "        predicted_prob = self.clf.predict_proba(feature)\n",
    "        return predicted_prob[0]\n",
    "    \n",
    "    def cleanResume(self, resumeText):\n",
    "        resumeText = re.sub('http\\S+\\s*', ' ', resumeText)  # remove URLs\n",
    "        resumeText = re.sub('RT|cc', ' ', resumeText)  # remove RT and cc\n",
    "        resumeText = re.sub('#\\S+', '', resumeText)  # remove hashtags\n",
    "        resumeText = re.sub('@\\S+', '  ', resumeText)  # remove mentions\n",
    "        resumeText = re.sub('[%s]' % re.escape(\"\"\"!\"#$%&'()*+,-./:;<=>?@[\\]^_`{|}~\"\"\"), ' ', resumeText)  # remove punctuations\n",
    "        resumeText = re.sub(r'[^\\x00-\\x7f]',r' ', resumeText) # remove non-ascii characters\n",
    "        resumeText = re.sub('\\s+', ' ', resumeText)  # remove extra whitespace\n",
    "        resumeText = resumeText.lower()  # convert to lowercase\n",
    "        return resumeText"
   ]
  },
  {
=======
>>>>>>> 546951769061e07632d298d997ad418ce0df54ce
   "cell_type": "markdown",
   "metadata": {},
   "source": [
    "# **Validaciones reales**"
   ]
<<<<<<< HEAD
  },
  {
   "cell_type": "code",
   "execution_count": 775,
   "metadata": {},
   "outputs": [],
   "source": [
    "job_description = \"\"\"\n",
    "Skills Required:\n",
    "\n",
    "Proficiency in statistical analysis, machine learning, and data mining techniques\n",
    "Strong programming skills in Python or R for data analysis and model development\n",
    "Experience with data manipulation and transformation using SQL and/or NoSQL databases\n",
    "Knowledge of data visualization libraries such as Matplotlib, Seaborn, or Plotly\n",
    "Familiarity with distributed computing frameworks like Apache Spark for big data processing\n",
    "Understanding of cloud platforms such as AWS, Azure, or Google Cloud for data storage and computing\n",
    "Ability to communicate complex findings and insights to both technical and non-technical stakeholders\n",
    "Experience with version control systems like Git for collaborative development\n",
    "Strong problem-solving skills and attention to detail\n",
    "Background in mathematics, statistics, computer science, or a related field\n",
    "Roles & Responsibilities:\n",
    "\n",
    "Serve as a subject matter expert in statistical analysis and machine learning techniques\n",
    "Collaborate with cross-functional teams including data engineers, business analysts, and domain experts to identify and solve complex business problems\n",
    "Design, develop, and deploy machine learning models to extract actionable insights from large datasets\n",
    "Conduct exploratory data analysis to uncover patterns, trends, and correlations in the data\n",
    "Evaluate model performance and iterate on algorithms to improve accuracy and efficiency\n",
    "Create data visualizations and interactive dashboards to communicate findings and drive decision-making\n",
    "Stay current with emerging technologies and industry trends in data science and machine learning\n",
    "Mentor and provide guidance to junior data scientists and analysts\n",
    "Participate in code reviews, team meetings, and knowledge-sharing sessions\n",
    "Adapt to changing priorities and manage multiple projects simultaneously\n",
    "\"\"\""
   ]
  },
  {
   "cell_type": "code",
   "execution_count": 776,
   "metadata": {},
   "outputs": [
    {
     "data": {
      "text/plain": [
       "'JD uploaded! Position: Data Science'"
      ]
     },
     "execution_count": 776,
     "metadata": {},
     "output_type": "execute_result"
    }
   ],
   "source": [
    "resume_position = JobPredictor().predict(job_description)\n",
    "f'JD uploaded! Position: {resume_position}'"
   ]
  },
  {
   "cell_type": "code",
   "execution_count": 777,
   "metadata": {},
   "outputs": [],
   "source": [
    "job_description = \"\"\"\n",
    "Skills Required:\n",
    "\n",
    "Proficient in C# and Dot NET framework for application development\n",
    "Strong understanding of object-oriented programming principles\n",
    "Experience with ASP Dot NET MVC or ASP Dot NET Core for web development\n",
    "Familiarity with front-end technologies such as HTML, CSS, and JavaScript\n",
    "Knowledge of relational databases like SQL Server or MySQL\n",
    "Experience with version control systems such as Git\n",
    "Understanding of software development best practices and design patterns\n",
    "Ability to write clean, maintainable, and efficient code\n",
    "Strong problem-solving and debugging skills\n",
    "Excellent communication skills and ability to work in a team environment\n",
    "Roles & Responsibilities:\n",
    "\n",
    "Develop and maintain Dot NET applications using C# and related technologies\n",
    "Collaborate with cross-functional teams to gather requirements and define project scope\n",
    "Design and implement scalable and secure web applications\n",
    "Write unit tests and conduct code reviews to ensure code quality\n",
    "Troubleshoot and debug issues in existing applications\n",
    "Keep up-to-date with the latest Dot NET technologies and industry trends\n",
    "Provide technical guidance and mentorship to junior developers\n",
    "Participate in Agile development processes and meetings\n",
    "Communicate effectively with stakeholders to understand business requirements\n",
    "Adapt to changing project requirements and deadlines\n",
    "\"\"\""
   ]
  },
  {
   "cell_type": "code",
   "execution_count": 778,
   "metadata": {},
   "outputs": [
    {
     "data": {
      "text/plain": [
       "'JD uploaded! Position: DotNet Developer'"
      ]
     },
     "execution_count": 778,
     "metadata": {},
     "output_type": "execute_result"
    }
   ],
   "source": [
    "\n",
    "resume_position = JobPredictor().predict(job_description)\n",
    "f'JD uploaded! Position: {resume_position}'"
   ]
  },
  {
   "cell_type": "code",
   "execution_count": 779,
   "metadata": {},
   "outputs": [],
   "source": [
    "job_description = \"\"\"\n",
    "Skills Required:\n",
    "\n",
    "Proficiency in HTML5, CSS3, and JavaScript for web development\n",
    "Experience with responsive design techniques and frameworks like Bootstrap or Foundation\n",
    "Strong understanding of user experience (UX) and user interface (UI) design principles\n",
    "Knowledge of Adobe Creative Suite (Photoshop, Illustrator, XD, etc.) or other design tools\n",
    "Familiarity with version control systems such as Git\n",
    "Understanding of web accessibility standards and best practices\n",
    "Ability to create visually appealing and intuitive website layouts\n",
    "Excellent attention to detail and ability to work to tight deadlines\n",
    "Strong communication skills and ability to collaborate with cross-functional teams\n",
    "Understanding of SEO principles and techniques for optimizing website performance\n",
    "Roles & Responsibilities:\n",
    "\n",
    "Design visually stunning and user-friendly website layouts and interfaces\n",
    "Collaborate with stakeholders to understand project requirements and objectives\n",
    "Create wireframes, mockups, and prototypes to demonstrate design concepts\n",
    "Implement designs using HTML, CSS, and JavaScript while ensuring cross-browser compatibility\n",
    "Optimize website performance for speed and responsiveness\n",
    "Conduct usability testing and gather feedback to iterate on designs\n",
    "Stay updated on the latest design trends, tools, and technologies\n",
    "Work closely with developers to ensure designs are implemented accurately\n",
    "Communicate effectively with clients and project teams throughout the design process\n",
    "Provide guidance and mentorship to junior designers or developers when needed\n",
    "Contribute to design discussions and brainstorming sessions to generate new ideas\n",
    "\"\"\""
   ]
  },
  {
   "cell_type": "code",
   "execution_count": 780,
   "metadata": {},
   "outputs": [
    {
     "data": {
      "text/plain": [
       "'JD uploaded! Position: Web Designing'"
      ]
     },
     "execution_count": 780,
     "metadata": {},
     "output_type": "execute_result"
    }
   ],
   "source": [
    "resume_position = JobPredictor().predict(job_description)\n",
    "f'JD uploaded! Position: {resume_position}'"
   ]
  },
  {
   "cell_type": "code",
   "execution_count": 781,
   "metadata": {},
   "outputs": [],
   "source": [
    "job_description = \"\"\"\n",
    "Name: Maria Lopez\n",
    "\n",
    "Profile:\n",
    "Experienced Java Developer with a proven track record of designing, implementing, and maintaining Java-based applications. Possessing a solid understanding of object-oriented programming principles, design patterns, and best practices in software development. Skilled in utilizing Java frameworks such as Spring and Hibernate to build robust and scalable applications. Proficient in database management systems including MySQL and Oracle. Strong problem-solving abilities with a keen attention to detail. Excellent communication skills and ability to work collaboratively in a team environment.\n",
    "\n",
    "Experience:\n",
    "\n",
    "Senior Java Developer\n",
    "ABC Software Solutions\n",
    "January 2019 - Present\n",
    "Responsibilities:\n",
    "\n",
    "Lead the development team in designing and implementing Java-based solutions for clients.\n",
    "Collaborate with cross-functional teams to gather requirements and define project scopes.\n",
    "Develop and maintain RESTful APIs using Spring Boot framework.\n",
    "Optimize application performance and ensure scalability.\n",
    "Conduct code reviews and mentor junior developers.\n",
    "Java Developer\n",
    "XYZ Tech Inc.\n",
    "June 2016 - December 2018\n",
    "Responsibilities:\n",
    "\n",
    "Developed and maintained enterprise-level Java applications for internal and external use.\n",
    "Participated in all phases of the software development lifecycle, from requirements gathering to deployment.\n",
    "Integrated third-party APIs and services into existing systems.\n",
    "Troubleshooted and resolved technical issues in a timely manner.\n",
    "Assisted in the training of new team members on Java development practices.\n",
    "Education:\n",
    "Bachelor of Science in Computer Science\n",
    "University of Technology\n",
    "Graduated: May 2016\n",
    "\n",
    "Skills:\n",
    "\n",
    "Proficient in Java programming language\n",
    "Experience with Spring framework (Spring Boot, Spring MVC, Spring Security)\n",
    "Familiarity with Hibernate ORM framework\n",
    "Strong knowledge of database management systems (MySQL, Oracle)\n",
    "Understanding of software development methodologies (Agile, Scrum)\n",
    "Excellent problem-solving and analytical skills\n",
    "Effective communication and teamwork abilities\n",
    "\"\"\""
   ]
  },
  {
   "cell_type": "code",
   "execution_count": 782,
   "metadata": {},
   "outputs": [
    {
     "data": {
      "text/plain": [
       "'JD uploaded! Position: Java Developer'"
      ]
     },
     "execution_count": 782,
     "metadata": {},
     "output_type": "execute_result"
    }
   ],
   "source": [
    "\n",
    "resume_position = JobPredictor().predict(job_description)\n",
    "f'JD uploaded! Position: {resume_position}'"
   ]
  },
  {
   "cell_type": "code",
   "execution_count": 783,
   "metadata": {},
   "outputs": [],
   "source": [
    "job_description = \"\"\"\n",
    "Resumen Profesional:\n",
    "Ingeniero de pruebas de software con experiencia en el diseño, ejecución y automatización de pruebas para garantizar la calidad y la funcionalidad de las aplicaciones. Poseo un sólido conocimiento de las metodologías de pruebas y herramientas de automatización, así como habilidades de resolución de problemas y análisis detallado. Mi enfoque meticuloso y orientado a resultados me permite identificar y resolver defectos de manera eficiente, contribuyendo al éxito del proyecto y la satisfacción del cliente.\n",
    "\n",
    "Experiencia Laboral:\n",
    "\n",
    "Ingeniero de Pruebas Senior\n",
    "Empresa XYZ\n",
    "Fecha de inicio - Fecha de término\n",
    "\n",
    "Diseñé estrategias de pruebas exhaustivas para aplicaciones web y móviles, cubriendo casos de uso críticos y escenarios de borde.\n",
    "Desarrollé y mantuve suites de pruebas automatizadas utilizando herramientas como Selenium y Appium, reduciendo el tiempo de ejecución de pruebas en un 50%.\n",
    "Colaboré con equipos de desarrollo para implementar prácticas de integración continua y entrega continua (CI/CD), mejorando la eficiencia del ciclo de desarrollo.\n",
    "Analista de Pruebas\n",
    "Empresa ABC\n",
    "Fecha de inicio - Fecha de término\n",
    "\n",
    "Ejecuté pruebas de regresión, funcionales y de rendimiento para aplicaciones empresariales críticas, identificando y documentando defectos para su corrección.\n",
    "Participé en revisiones de diseño y requisitos para garantizar la testabilidad de los sistemas y la detección temprana de posibles problemas.\n",
    "Contribuí al desarrollo y mantenimiento de herramientas internas de pruebas y al establecimiento de estándares de calidad del software.\n",
    "Educación:\n",
    "\n",
    "Licenciatura en Ingeniería de Software, Universidad XYZ, Año de Graduación\n",
    "Habilidades Técnicas:\n",
    "\n",
    "Pruebas manuales y automatizadas\n",
    "Herramientas de automatización de pruebas (Selenium, Appium, JUnit, TestNG)\n",
    "Metodologías de desarrollo ágil (Scrum, Kanban)\n",
    "Gestión de defectos y seguimiento de problemas (JIRA, Bugzilla)\n",
    "Pruebas de rendimiento (JMeter, LoadRunner)\n",
    "Análisis de requisitos y diseño de casos de prueba\n",
    "Integración continua y entrega continua (CI/CD)\n",
    "Idiomas:\n",
    "\n",
    "Español (nativo)\n",
    "Inglés (avanzado)\n",
    "Certificaciones:\n",
    "\n",
    "Certificado en Pruebas de Software ISTQB\n",
    "Certificado en Automatización de Pruebas con Selenium WebDriver\n",
    "\"\"\""
   ]
  },
  {
   "cell_type": "code",
   "execution_count": 784,
   "metadata": {},
   "outputs": [
    {
     "data": {
      "text/plain": [
       "'JD uploaded! Position: Java Developer'"
      ]
     },
     "execution_count": 784,
     "metadata": {},
     "output_type": "execute_result"
    }
   ],
   "source": [
    "\n",
    "resume_position = JobPredictor().predict(job_description)\n",
    "f'JD uploaded! Position: {resume_position}'"
   ]
=======
>>>>>>> 546951769061e07632d298d997ad418ce0df54ce
  }
 ],
 "metadata": {
  "kernelspec": {
   "display_name": ".venv",
   "language": "python",
   "name": "python3"
  },
  "language_info": {
   "codemirror_mode": {
    "name": "ipython",
    "version": 3
   },
   "file_extension": ".py",
   "mimetype": "text/x-python",
   "name": "python",
   "nbconvert_exporter": "python",
   "pygments_lexer": "ipython3",
   "version": "3.12.1"
  }
 },
 "nbformat": 4,
 "nbformat_minor": 2
}
