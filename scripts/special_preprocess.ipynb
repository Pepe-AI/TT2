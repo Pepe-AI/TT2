{
 "cells": [
  {
   "cell_type": "code",
   "execution_count": 39,
   "metadata": {},
   "outputs": [
    {
     "name": "stdout",
     "output_type": "stream",
     "text": [
      "4828\n"
     ]
    },
    {
     "data": {
      "text/plain": [
       "[('manager', 445),\n",
       " ('requirement', 431),\n",
       " ('cs', 426),\n",
       " ('test', 410),\n",
       " ('report', 406),\n",
       " ('jquery', 383),\n",
       " ('control', 381),\n",
       " ('mysql', 359),\n",
       " ('microsoft', 350),\n",
       " ('es', 348),\n",
       " ('span', 343),\n",
       " ('implementation', 343),\n",
       " ('analysis', 339),\n",
       " ('end', 337),\n",
       " ('linux', 335),\n",
       " ('script', 332),\n",
       " ('computer', 329),\n",
       " ('based', 325),\n",
       " ('backup', 321),\n",
       " ('procedure', 313)]"
      ]
     },
     "execution_count": 39,
     "metadata": {},
     "output_type": "execute_result"
    }
   ],
   "source": [
    "\n",
    "import pandas as pd\n",
    "from collections import Counter\n",
    "import random\n",
    "\n",
    "# Load the CSV file into a DataFrame\n",
    "df = pd.read_csv('DatasetRelleno.csv')\n",
    "\n",
    "# Assuming the column that indicates the job title is named 'Job_Title', we'll filter the DataFrame\n",
    "# We also assume the resumes are in a column named 'Clean_resume'\n",
    "# Let's check the first few rows to understand the structure of the dataframe\n",
    "df.head()\n",
    "\n",
    "# Filter resumes for Python Developer and Java Developer\n",
    "python_dev_resumes = df[df['Category'] == 'Python Developer']['Clean_Resume']\n",
    "java_dev_resumes = df[df['Category'] == 'Java Developer']['Clean_Resume']\n",
    "\n",
    "# Create sets of unique words for Python Developer and Java Developer resumes\n",
    "# We will split the words in the resume and convert them to a set for each resume\n",
    "# Then we will find the intersection of these sets to find common words\n",
    "\n",
    "python_words = set()\n",
    "java_words = set()\n",
    "\n",
    "# Update the sets with words from each resume\n",
    "for resume in python_dev_resumes:\n",
    "    python_words.update(resume.split())\n",
    "\n",
    "for resume in java_dev_resumes:\n",
    "    java_words.update(resume.split())\n",
    "\n",
    "# Find the intersection of words between Python Developer and Java Developer resumes\n",
    "common_words = python_words.intersection(java_words)\n",
    "\n",
    "# Convert the set to a list to display it\n",
    "common_words_list = list(common_words)\n",
    "\n",
    "# Displaying the first 20 common words for brevity\n",
    "#common_words_list\n",
    "\n",
    "\n",
    "\n",
    "\n",
    "# Assuming you have your DataFrames: python_dev_resumes and java_dev_resumes\n",
    "\n",
    "# Create a Counter object for each category\n",
    "python_freq_counter = Counter(\" \".join(python_dev_resumes).split())\n",
    "java_freq_counter = Counter(\" \".join(java_dev_resumes).split())\n",
    "\n",
    "# Get the common words\n",
    "common_words = set(python_freq_counter).intersection(java_freq_counter)\n",
    "\n",
    "# Now create a dictionary to hold the sum of frequencies from both Counters\n",
    "common_words_freq = {word: python_freq_counter[word] + java_freq_counter[word] for word in common_words}\n",
    "\n",
    "# Sort the common words by combined frequency\n",
    "sorted_common_words = sorted(common_words_freq.items(), key=lambda kv: kv[1], reverse=True)\n",
    "\n",
    "# This will give you the sorted (word, frequency) tuples\n",
    "print(len(sorted_common_words))\n",
    "sorted_common_words[20:40]"
   ]
  },
  {
   "cell_type": "code",
   "execution_count": 40,
   "metadata": {},
   "outputs": [],
   "source": [
    "# Define the replacement words for 'system' and 'server'\n",
    "replacement_words_system = ['pandas', 'numpy', 'matplotlib']\n",
    "replacement_words_server = ['machine learning', 'data analysis']\n",
    "replacement_words_jquery = ['Automation', 'Docker']\n",
    "replacement_words_python = ['python developer']\n",
    "\n",
    "# Unified function to replace both 'system' and 'server'\n",
    "def replace_keywords_with_random(text):\n",
    "    words = text.split()\n",
    "    return ' '.join([random.choice(replacement_words_system) if word.lower() == 'system'\n",
    "                     else random.choice(replacement_words_server) if word.lower() == 'server'\n",
    "                     else random.choice(replacement_words_jquery) if word.lower() == 'jquery'\n",
    "                     else random.choice(replacement_words_python) if word.lower() == 'data'\n",
    "                     else word\n",
    "                     for word in words])\n",
    "\n",
    "# Apply the unified function to the 'Clean_Resume' column for Python Developer resumes\n",
    "df.loc[df['Category'] == 'Python Developer', 'Clean_Resume'] = df[df['Category'] == 'Python Developer']['Clean_Resume'].apply(replace_keywords_with_random)\n",
    "\n",
    "# Save the modified DataFrame back to CSV if needed\n",
    "df.to_csv('path_to_your_modified.csv', index=False)"
   ]
  }
 ],
 "metadata": {
  "kernelspec": {
   "display_name": ".venv",
   "language": "python",
   "name": "python3"
  },
  "language_info": {
   "codemirror_mode": {
    "name": "ipython",
    "version": 3
   },
   "file_extension": ".py",
   "mimetype": "text/x-python",
   "name": "python",
   "nbconvert_exporter": "python",
   "pygments_lexer": "ipython3",
   "version": "3.12.1"
  }
 },
 "nbformat": 4,
 "nbformat_minor": 2
}
